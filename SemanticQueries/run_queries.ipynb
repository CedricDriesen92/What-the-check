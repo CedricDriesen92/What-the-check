{
 "cells": [
  {
   "cell_type": "markdown",
   "metadata": {},
   "source": [
    "# Perform Queries in our Graph"
   ]
  },
  {
   "cell_type": "code",
   "execution_count": 23,
   "metadata": {},
   "outputs": [
    {
     "data": {
      "text/plain": [
       "<Graph identifier=N1d05fbcbd95d4ddcae98ca5bae113079 (<class 'rdflib.graph.Graph'>)>"
      ]
     },
     "execution_count": 23,
     "metadata": {},
     "output_type": "execute_result"
    }
   ],
   "source": [
    "from rdflib import Graph\n",
    "g = Graph()\n",
    "g.parse(\"../IFC Conversion/house.ttl\")\n",
    "\n",
    "g"
   ]
  },
  {
   "cell_type": "markdown",
   "metadata": {},
   "source": [
    "## Using SPARQL"
   ]
  },
  {
   "cell_type": "markdown",
   "metadata": {},
   "source": [
    "### Art. 22§2\n",
    "\n",
    "The doors should not have a width below 1050mm."
   ]
  },
  {
   "cell_type": "code",
   "execution_count": 24,
   "metadata": {},
   "outputs": [
    {
     "name": "stdout",
     "output_type": "stream",
     "text": [
      "Found 17 Doors with Width below 1050 mm: \n",
      "https://example.org#M_Single-Flush_0915x2032mm_398822 - door width = 915.0\n",
      "https://example.org#M_Single-Flush_0915x2032mm_398909 - door width = 915.0\n",
      "https://example.org#M_Single-Flush_0915x2032mm_399431 - door width = 915.0\n",
      "https://example.org#M_Single-Flush_0915x2032mm_399501 - door width = 915.0\n",
      "https://example.org#M_Single-Flush_0915x2032mm_399643 - door width = 915.0\n",
      "https://example.org#M_Single-Flush_0915x2032mm_399925 - door width = 915.0\n",
      "https://example.org#M_Single-Flush_0915x2032mm_400081 - door width = 915.0\n",
      "https://example.org#M_Single-Flush_0915x2134mm_358185 - door width = 915.0\n",
      "https://example.org#M_Single-Flush_0915x2134mm_358480 - door width = 915.0\n",
      "https://example.org#M_Single-Flush_0915x2134mm_359949 - door width = 915.0\n",
      "https://example.org#M_Single-Flush_0915x2134mm_377662 - door width = 915.0\n",
      "https://example.org#M_Single-Flush_0915x2134mm_378185 - door width = 915.0\n",
      "https://example.org#M_Single-Flush_0915x2134mm_378243 - door width = 915.0\n",
      "https://example.org#M_Single-Flush_0915x2134mm_378321 - door width = 915.0\n",
      "https://example.org#M_Single-Flush_0915x2134mm_378401 - door width = 915.0\n",
      "https://example.org#M_Single-Flush_0915x2134mm_401415 - door width = 915.0\n",
      "https://example.org#M_Single-Flush_0915x2134mm_401572 - door width = 915.0\n"
     ]
    }
   ],
   "source": [
    "ourQuery = \"\"\"\n",
    "PREFIX bot: <https://w3id.org/bot#>\n",
    "PREFIX beo: <https://w3id.org/beo#>\n",
    "PREFIX rdf: <http://www.w3.org/1999/02/22-rdf-syntax-ns#>\n",
    "\n",
    "SELECT ?s ?w\n",
    "WHERE{ ?s rdf:type beo:Door .\n",
    "    ?s ex:width ?w .\n",
    "    FILTER (?w < 1050)\n",
    "}\n",
    "\"\"\"\n",
    "\n",
    "qres = g.query(ourQuery)\n",
    "\n",
    "print( f\"Found {len(qres)} Doors with Width below 1050 mm: \" )\n",
    "for row in qres:\n",
    "    print(f\"{row.s} - door width = {row.w}\")"
   ]
  },
  {
   "cell_type": "markdown",
   "metadata": {},
   "source": [
    "### Art. 20§2\n",
    "\n",
    "Stairs can have at most 17 risers."
   ]
  },
  {
   "cell_type": "code",
   "execution_count": 25,
   "metadata": {},
   "outputs": [
    {
     "name": "stdout",
     "output_type": "stream",
     "text": [
      "Found these Stair(s) with more than 17 risers:\n",
      "https://example.org#PrecastStair_Stair_383689 : Risers = 18\n"
     ]
    }
   ],
   "source": [
    "ourQuery = \"\"\"\n",
    "# Check Riser Height\n",
    "PREFIX ex: <https://example.org#>\n",
    "PREFIX beo: <https://w3id.org/beo#>\n",
    "select * where {\n",
    "    ?s ?p beo:Stair .\n",
    "    ?s ex:NumberOfRailings ?rl .\n",
    "    ?s ex:NumberOfRiser ?ri .\n",
    "    ?s ex:RiserHeight ?rh .\n",
    "    ?s ex:TreadLength ?tl\n",
    "    FILTER(?ri > 17)\n",
    "} limit 100\n",
    "\"\"\"\n",
    "\n",
    "qres = g.query(ourQuery)\n",
    "\n",
    "if len(qres) > 0:\n",
    "    print( \"Found these Stair(s) with more than 17 risers:\" )\n",
    "    for row in qres:\n",
    "        print(f\"{row.s} : Risers = {row.ri}\")\n",
    "else:\n",
    "    print( \"No stairs have more than 17 risers.\" )"
   ]
  },
  {
   "cell_type": "markdown",
   "metadata": {},
   "source": [
    "### Art. 20§3\n",
    "\n",
    "The height of risers may be at most 18cm."
   ]
  },
  {
   "cell_type": "code",
   "execution_count": 26,
   "metadata": {},
   "outputs": [
    {
     "name": "stdout",
     "output_type": "stream",
     "text": [
      "All stairs have a small enough riser height.\n"
     ]
    }
   ],
   "source": [
    "ourQuery = \"\"\"\n",
    "# Check Riser Height\n",
    "PREFIX ex: <https://example.org#>\n",
    "PREFIX beo: <https://w3id.org/beo#>\n",
    "select * where {\n",
    "    ?s ?p beo:Stair .\n",
    "    ?s ex:NumberOfRailings ?r .\n",
    "    ?s ex:RiserHeight ?rh .\n",
    "    ?s ex:TreadLength ?tl\n",
    "    FILTER(?rh > 180)\n",
    "} limit 100\n",
    "\"\"\"\n",
    "\n",
    "qres = g.query(ourQuery)\n",
    "\n",
    "if len(qres) > 0:\n",
    "    print( \"Found these Stairs too high risers:\" )\n",
    "    for row in qres:\n",
    "        print(f\"{row.s} : RH = {row.rh} TL = {row.tl}\")\n",
    "else:\n",
    "    print( \"All stairs have a small enough riser height.\" )"
   ]
  },
  {
   "cell_type": "markdown",
   "metadata": {},
   "source": [
    "The length of treads should be at least 23cm."
   ]
  },
  {
   "cell_type": "code",
   "execution_count": 27,
   "metadata": {},
   "outputs": [
    {
     "name": "stdout",
     "output_type": "stream",
     "text": [
      "All stairs have a sufficient tread length.\n"
     ]
    }
   ],
   "source": [
    "ourQuery = \"\"\"\n",
    "# Check Riser Height\n",
    "PREFIX ex: <https://example.org#>\n",
    "PREFIX beo: <https://w3id.org/beo#>\n",
    "select * where {\n",
    "    ?s ?p beo:Stair .\n",
    "    ?s ex:NumberOfRailings ?r .\n",
    "    ?s ex:RiserHeight ?rh .\n",
    "    ?s ex:TreadLength ?tl\n",
    "    FILTER(?tl < 230)\n",
    "} limit 100\n",
    "\"\"\"\n",
    "\n",
    "qres = g.query(ourQuery)\n",
    "\n",
    "if len(qres) > 0:\n",
    "    print( \"Found these Stairs with too short tread lengths:\" )\n",
    "    for row in qres:\n",
    "        print(f\"{row.s} : RH = {row.rh} TL = {row.tl}\")\n",
    "else:\n",
    "    print( \"All stairs have a sufficient tread length.\" )"
   ]
  },
  {
   "cell_type": "markdown",
   "metadata": {},
   "source": [
    "### Art. 20§3\n",
    "The stairs and the calculated stair formula: 2xRiser + 1x TreadLength"
   ]
  },
  {
   "cell_type": "code",
   "execution_count": 28,
   "metadata": {},
   "outputs": [
    {
     "name": "stdout",
     "output_type": "stream",
     "text": [
      "Found these Stairs with non-compliant Stair Formula: \n",
      "https://example.org#PrecastStair_Stair_397996 : 2xRH+TL = 454\n"
     ]
    }
   ],
   "source": [
    "ourQuery = \"\"\"\n",
    "# Check Stair formula\n",
    "PREFIX ex: <https://example.org#>\n",
    "PREFIX beo: <https://w3id.org/beo#>\n",
    "select * where {\n",
    "    ?s ?p beo:Stair .\n",
    "    ?s ex:NumberOfRailings ?r .\n",
    "    ?s ex:RiserHeight ?rh .\n",
    "    ?s ex:TreadLength ?tl\n",
    "    BIND( (2 * ?rh + ?tl) AS ?StairFormula )\n",
    "    FILTER((?StairFormula < 590) || (?StairFormula > 630))\n",
    "} limit 100\n",
    "\"\"\"\n",
    "\n",
    "qres = g.query(ourQuery)\n",
    "\n",
    "if len(qres) > 0:\n",
    "    print( \"Found these Stairs with non-compliant Stair Formula: \" )\n",
    "    for row in qres:\n",
    "        print(f\"{row.s} : 2xRH+TL = {row.StairFormula}\")\n",
    "else:\n",
    "    print(\"All stairs comply with the Stair Formula\")"
   ]
  },
  {
   "cell_type": "markdown",
   "metadata": {},
   "source": [
    "## Now using SHACL"
   ]
  },
  {
   "cell_type": "code",
   "execution_count": 29,
   "metadata": {},
   "outputs": [
    {
     "name": "stdout",
     "output_type": "stream",
     "text": [
      "Requirement already satisfied: pyshacl in /Users/stefan/Repositories/FireBIM/SSolDAC2024/venv/lib/python3.12/site-packages (0.26.0)\n",
      "Requirement already satisfied: html5lib<2,>=1.1 in /Users/stefan/Repositories/FireBIM/SSolDAC2024/venv/lib/python3.12/site-packages (from pyshacl) (1.1)\n",
      "Requirement already satisfied: owlrl<7,>=6.0.2 in /Users/stefan/Repositories/FireBIM/SSolDAC2024/venv/lib/python3.12/site-packages (from pyshacl) (6.0.2)\n",
      "Requirement already satisfied: packaging>=21.3 in /Users/stefan/Repositories/FireBIM/SSolDAC2024/venv/lib/python3.12/site-packages (from pyshacl) (23.2)\n",
      "Requirement already satisfied: prettytable>=3.7.0 in /Users/stefan/Repositories/FireBIM/SSolDAC2024/venv/lib/python3.12/site-packages (from pyshacl) (3.10.0)\n",
      "Requirement already satisfied: rdflib<8.0,>=6.3.2 in /Users/stefan/Repositories/FireBIM/SSolDAC2024/venv/lib/python3.12/site-packages (from pyshacl) (7.0.0)\n",
      "Requirement already satisfied: six>=1.9 in /Users/stefan/Repositories/FireBIM/SSolDAC2024/venv/lib/python3.12/site-packages (from html5lib<2,>=1.1->pyshacl) (1.16.0)\n",
      "Requirement already satisfied: webencodings in /Users/stefan/Repositories/FireBIM/SSolDAC2024/venv/lib/python3.12/site-packages (from html5lib<2,>=1.1->pyshacl) (0.5.1)\n",
      "Requirement already satisfied: wcwidth in /Users/stefan/Repositories/FireBIM/SSolDAC2024/venv/lib/python3.12/site-packages (from prettytable>=3.7.0->pyshacl) (0.2.13)\n",
      "Requirement already satisfied: isodate<0.7.0,>=0.6.0 in /Users/stefan/Repositories/FireBIM/SSolDAC2024/venv/lib/python3.12/site-packages (from rdflib<8.0,>=6.3.2->pyshacl) (0.6.1)\n",
      "Requirement already satisfied: pyparsing<4,>=2.1.0 in /Users/stefan/Repositories/FireBIM/SSolDAC2024/venv/lib/python3.12/site-packages (from rdflib<8.0,>=6.3.2->pyshacl) (3.1.2)\n"
     ]
    }
   ],
   "source": [
    "!pip install pyshacl"
   ]
  },
  {
   "cell_type": "markdown",
   "metadata": {},
   "source": [
    "### Load a TTL graph and validate it"
   ]
  },
  {
   "cell_type": "code",
   "execution_count": 30,
   "metadata": {},
   "outputs": [
    {
     "name": "stdout",
     "output_type": "stream",
     "text": [
      "True\n",
      "b'@prefix ns1: <http://www.w3.org/ns/shacl#> .\\n@prefix xsd: <http://www.w3.org/2001/XMLSchema#> .\\n\\n[] a ns1:ValidationReport ;\\n    ns1:conforms true .\\n\\n'\n",
      "Validation Report\n",
      "Conforms: True\n",
      "\n"
     ]
    }
   ],
   "source": [
    "from pyshacl import validate\n",
    "from os import path\n",
    "\n",
    "# Load our Model Data (TTL)\n",
    "data_ttl_file = path.abspath(\"../IFC Conversion/house.ttl\")\n",
    "\n",
    "# Validate (but not shapes have been defined)\n",
    "conforms, v_graph, v_text = validate(\n",
    "    data_ttl_file, shacl_graph=None, inference='rdfs',\n",
    "    serialize_report_graph=True)\n",
    "\n",
    "# Output\n",
    "print(conforms)\n",
    "print(v_graph)\n",
    "print(v_text)"
   ]
  },
  {
   "cell_type": "markdown",
   "metadata": {},
   "source": [
    "## Now with SHACL shapes\n",
    "\n",
    "You can always test in the SHACL playground...\n"
   ]
  },
  {
   "cell_type": "code",
   "execution_count": 33,
   "metadata": {},
   "outputs": [
    {
     "name": "stdout",
     "output_type": "stream",
     "text": [
      "False\n",
      "b'@prefix ex: <https://example.org#> .\\n@prefix sh: <http://www.w3.org/ns/shacl#> .\\n@prefix xsd: <http://www.w3.org/2001/XMLSchema#> .\\n\\n[] a sh:ValidationReport ;\\n    sh:conforms false ;\\n    sh:result [ a sh:ValidationResult ;\\n            sh:focusNode ex:PrecastStair_Stair_383689 ;\\n            sh:resultMessage \"Need at most 17 risers\" ;\\n            sh:resultPath ex:NumberOfRiser ;\\n            sh:resultSeverity sh:Violation ;\\n            sh:sourceConstraintComponent sh:MaxExclusiveConstraintComponent ;\\n            sh:sourceShape [ sh:datatype xsd:integer ;\\n                    sh:maxExclusive 18 ;\\n                    sh:message \"Need at most 17 risers\" ;\\n                    sh:path ex:NumberOfRiser ] ;\\n            sh:value 18 ],\\n        [ a sh:ValidationResult ;\\n            sh:focusNode ex:M_Single-Flush_0915x2032mm_399643 ;\\n            sh:resultMessage \"Art.22\\xc2\\xa72 Doors should be at least 1.05m wide.\" ;\\n            sh:resultPath ex:width ;\\n            sh:resultSeverity sh:Violation ;\\n            sh:sourceConstraintComponent sh:MinInclusiveConstraintComponent ;\\n            sh:sourceShape _:neaf57a86fc8a4501a221c3106de7f3e9b2 ;\\n            sh:value 9.15e+02 ],\\n        [ a sh:ValidationResult ;\\n            sh:focusNode ex:M_Single-Flush_0915x2032mm_399431 ;\\n            sh:resultMessage \"Art.22\\xc2\\xa71 Doors should be at least 2.09m high.\" ;\\n            sh:resultPath ex:height ;\\n            sh:resultSeverity sh:Violation ;\\n            sh:sourceConstraintComponent sh:MinInclusiveConstraintComponent ;\\n            sh:sourceShape _:neaf57a86fc8a4501a221c3106de7f3e9b1 ;\\n            sh:value 2.032e+03 ],\\n        [ a sh:ValidationResult ;\\n            sh:focusNode ex:M_Single-Flush_0915x2032mm_399643 ;\\n            sh:resultMessage \"Art.22\\xc2\\xa71 Doors should be at least 2.09m high.\" ;\\n            sh:resultPath ex:height ;\\n            sh:resultSeverity sh:Violation ;\\n            sh:sourceConstraintComponent sh:MinInclusiveConstraintComponent ;\\n            sh:sourceShape _:neaf57a86fc8a4501a221c3106de7f3e9b1 ;\\n            sh:value 2.032e+03 ],\\n        [ a sh:ValidationResult ;\\n            sh:focusNode ex:M_Single-Flush_0915x2134mm_378243 ;\\n            sh:resultMessage \"Art.22\\xc2\\xa72 Doors should be at least 1.05m wide.\" ;\\n            sh:resultPath ex:width ;\\n            sh:resultSeverity sh:Violation ;\\n            sh:sourceConstraintComponent sh:MinInclusiveConstraintComponent ;\\n            sh:sourceShape _:neaf57a86fc8a4501a221c3106de7f3e9b2 ;\\n            sh:value 9.15e+02 ],\\n        [ a sh:ValidationResult ;\\n            sh:focusNode ex:M_Single-Flush_0915x2134mm_359949 ;\\n            sh:resultMessage \"Art.22\\xc2\\xa72 Doors should be at least 1.05m wide.\" ;\\n            sh:resultPath ex:width ;\\n            sh:resultSeverity sh:Violation ;\\n            sh:sourceConstraintComponent sh:MinInclusiveConstraintComponent ;\\n            sh:sourceShape _:neaf57a86fc8a4501a221c3106de7f3e9b2 ;\\n            sh:value 9.15e+02 ],\\n        [ a sh:ValidationResult ;\\n            sh:focusNode ex:M_Single-Flush_0915x2032mm_398909 ;\\n            sh:resultMessage \"Art.22\\xc2\\xa71 Doors should be at least 2.09m high.\" ;\\n            sh:resultPath ex:height ;\\n            sh:resultSeverity sh:Violation ;\\n            sh:sourceConstraintComponent sh:MinInclusiveConstraintComponent ;\\n            sh:sourceShape _:neaf57a86fc8a4501a221c3106de7f3e9b1 ;\\n            sh:value 2.032e+03 ],\\n        [ a sh:ValidationResult ;\\n            sh:focusNode ex:M_Single-Flush_0915x2134mm_358185 ;\\n            sh:resultMessage \"Art.22\\xc2\\xa72 Doors should be at least 1.05m wide.\" ;\\n            sh:resultPath ex:width ;\\n            sh:resultSeverity sh:Violation ;\\n            sh:sourceConstraintComponent sh:MinInclusiveConstraintComponent ;\\n            sh:sourceShape _:neaf57a86fc8a4501a221c3106de7f3e9b2 ;\\n            sh:value 9.15e+02 ],\\n        [ a sh:ValidationResult ;\\n            sh:focusNode ex:M_Single-Flush_0915x2134mm_358480 ;\\n            sh:resultMessage \"Art.22\\xc2\\xa72 Doors should be at least 1.05m wide.\" ;\\n            sh:resultPath ex:width ;\\n            sh:resultSeverity sh:Violation ;\\n            sh:sourceConstraintComponent sh:MinInclusiveConstraintComponent ;\\n            sh:sourceShape _:neaf57a86fc8a4501a221c3106de7f3e9b2 ;\\n            sh:value 9.15e+02 ],\\n        [ a sh:ValidationResult ;\\n            sh:focusNode ex:M_Single-Flush_0915x2032mm_399501 ;\\n            sh:resultMessage \"Art.22\\xc2\\xa72 Doors should be at least 1.05m wide.\" ;\\n            sh:resultPath ex:width ;\\n            sh:resultSeverity sh:Violation ;\\n            sh:sourceConstraintComponent sh:MinInclusiveConstraintComponent ;\\n            sh:sourceShape _:neaf57a86fc8a4501a221c3106de7f3e9b2 ;\\n            sh:value 9.15e+02 ],\\n        [ a sh:ValidationResult ;\\n            sh:focusNode ex:M_Single-Flush_0915x2032mm_398822 ;\\n            sh:resultMessage \"Art.22\\xc2\\xa72 Doors should be at least 1.05m wide.\" ;\\n            sh:resultPath ex:width ;\\n            sh:resultSeverity sh:Violation ;\\n            sh:sourceConstraintComponent sh:MinInclusiveConstraintComponent ;\\n            sh:sourceShape _:neaf57a86fc8a4501a221c3106de7f3e9b2 ;\\n            sh:value 9.15e+02 ],\\n        [ a sh:ValidationResult ;\\n            sh:focusNode ex:M_Single-Flush_0915x2032mm_400081 ;\\n            sh:resultMessage \"Art.22\\xc2\\xa71 Doors should be at least 2.09m high.\" ;\\n            sh:resultPath ex:height ;\\n            sh:resultSeverity sh:Violation ;\\n            sh:sourceConstraintComponent sh:MinInclusiveConstraintComponent ;\\n            sh:sourceShape _:neaf57a86fc8a4501a221c3106de7f3e9b1 ;\\n            sh:value 2.032e+03 ],\\n        [ a sh:ValidationResult ;\\n            sh:focusNode ex:M_Single-Flush_0915x2134mm_401415 ;\\n            sh:resultMessage \"Art.22\\xc2\\xa72 Doors should be at least 1.05m wide.\" ;\\n            sh:resultPath ex:width ;\\n            sh:resultSeverity sh:Violation ;\\n            sh:sourceConstraintComponent sh:MinInclusiveConstraintComponent ;\\n            sh:sourceShape _:neaf57a86fc8a4501a221c3106de7f3e9b2 ;\\n            sh:value 9.15e+02 ],\\n        [ a sh:ValidationResult ;\\n            sh:focusNode ex:M_Single-Flush_0915x2134mm_378321 ;\\n            sh:resultMessage \"Art.22\\xc2\\xa72 Doors should be at least 1.05m wide.\" ;\\n            sh:resultPath ex:width ;\\n            sh:resultSeverity sh:Violation ;\\n            sh:sourceConstraintComponent sh:MinInclusiveConstraintComponent ;\\n            sh:sourceShape _:neaf57a86fc8a4501a221c3106de7f3e9b2 ;\\n            sh:value 9.15e+02 ],\\n        [ a sh:ValidationResult ;\\n            sh:focusNode ex:M_Single-Flush_0915x2032mm_399925 ;\\n            sh:resultMessage \"Art.22\\xc2\\xa71 Doors should be at least 2.09m high.\" ;\\n            sh:resultPath ex:height ;\\n            sh:resultSeverity sh:Violation ;\\n            sh:sourceConstraintComponent sh:MinInclusiveConstraintComponent ;\\n            sh:sourceShape _:neaf57a86fc8a4501a221c3106de7f3e9b1 ;\\n            sh:value 2.032e+03 ],\\n        [ a sh:ValidationResult ;\\n            sh:focusNode ex:M_Single-Flush_0915x2032mm_398822 ;\\n            sh:resultMessage \"Art.22\\xc2\\xa71 Doors should be at least 2.09m high.\" ;\\n            sh:resultPath ex:height ;\\n            sh:resultSeverity sh:Violation ;\\n            sh:sourceConstraintComponent sh:MinInclusiveConstraintComponent ;\\n            sh:sourceShape _:neaf57a86fc8a4501a221c3106de7f3e9b1 ;\\n            sh:value 2.032e+03 ],\\n        [ a sh:ValidationResult ;\\n            sh:focusNode ex:M_Single-Flush_0915x2032mm_399925 ;\\n            sh:resultMessage \"Art.22\\xc2\\xa72 Doors should be at least 1.05m wide.\" ;\\n            sh:resultPath ex:width ;\\n            sh:resultSeverity sh:Violation ;\\n            sh:sourceConstraintComponent sh:MinInclusiveConstraintComponent ;\\n            sh:sourceShape _:neaf57a86fc8a4501a221c3106de7f3e9b2 ;\\n            sh:value 9.15e+02 ],\\n        [ a sh:ValidationResult ;\\n            sh:focusNode ex:M_Single-Flush_0915x2032mm_399431 ;\\n            sh:resultMessage \"Art.22\\xc2\\xa72 Doors should be at least 1.05m wide.\" ;\\n            sh:resultPath ex:width ;\\n            sh:resultSeverity sh:Violation ;\\n            sh:sourceConstraintComponent sh:MinInclusiveConstraintComponent ;\\n            sh:sourceShape _:neaf57a86fc8a4501a221c3106de7f3e9b2 ;\\n            sh:value 9.15e+02 ],\\n        [ a sh:ValidationResult ;\\n            sh:focusNode ex:M_Single-Flush_0915x2032mm_398909 ;\\n            sh:resultMessage \"Art.22\\xc2\\xa72 Doors should be at least 1.05m wide.\" ;\\n            sh:resultPath ex:width ;\\n            sh:resultSeverity sh:Violation ;\\n            sh:sourceConstraintComponent sh:MinInclusiveConstraintComponent ;\\n            sh:sourceShape _:neaf57a86fc8a4501a221c3106de7f3e9b2 ;\\n            sh:value 9.15e+02 ],\\n        [ a sh:ValidationResult ;\\n            sh:focusNode ex:M_Single-Flush_0915x2032mm_399501 ;\\n            sh:resultMessage \"Art.22\\xc2\\xa71 Doors should be at least 2.09m high.\" ;\\n            sh:resultPath ex:height ;\\n            sh:resultSeverity sh:Violation ;\\n            sh:sourceConstraintComponent sh:MinInclusiveConstraintComponent ;\\n            sh:sourceShape _:neaf57a86fc8a4501a221c3106de7f3e9b1 ;\\n            sh:value 2.032e+03 ],\\n        [ a sh:ValidationResult ;\\n            sh:focusNode ex:M_Single-Flush_0915x2134mm_378401 ;\\n            sh:resultMessage \"Art.22\\xc2\\xa72 Doors should be at least 1.05m wide.\" ;\\n            sh:resultPath ex:width ;\\n            sh:resultSeverity sh:Violation ;\\n            sh:sourceConstraintComponent sh:MinInclusiveConstraintComponent ;\\n            sh:sourceShape _:neaf57a86fc8a4501a221c3106de7f3e9b2 ;\\n            sh:value 9.15e+02 ],\\n        [ a sh:ValidationResult ;\\n            sh:focusNode ex:M_Single-Flush_0915x2134mm_401572 ;\\n            sh:resultMessage \"Art.22\\xc2\\xa72 Doors should be at least 1.05m wide.\" ;\\n            sh:resultPath ex:width ;\\n            sh:resultSeverity sh:Violation ;\\n            sh:sourceConstraintComponent sh:MinInclusiveConstraintComponent ;\\n            sh:sourceShape _:neaf57a86fc8a4501a221c3106de7f3e9b2 ;\\n            sh:value 9.15e+02 ],\\n        [ a sh:ValidationResult ;\\n            sh:focusNode ex:M_Single-Flush_0915x2134mm_378185 ;\\n            sh:resultMessage \"Art.22\\xc2\\xa72 Doors should be at least 1.05m wide.\" ;\\n            sh:resultPath ex:width ;\\n            sh:resultSeverity sh:Violation ;\\n            sh:sourceConstraintComponent sh:MinInclusiveConstraintComponent ;\\n            sh:sourceShape _:neaf57a86fc8a4501a221c3106de7f3e9b2 ;\\n            sh:value 9.15e+02 ],\\n        [ a sh:ValidationResult ;\\n            sh:focusNode ex:M_Single-Flush_0915x2134mm_377662 ;\\n            sh:resultMessage \"Art.22\\xc2\\xa72 Doors should be at least 1.05m wide.\" ;\\n            sh:resultPath ex:width ;\\n            sh:resultSeverity sh:Violation ;\\n            sh:sourceConstraintComponent sh:MinInclusiveConstraintComponent ;\\n            sh:sourceShape _:neaf57a86fc8a4501a221c3106de7f3e9b2 ;\\n            sh:value 9.15e+02 ],\\n        [ a sh:ValidationResult ;\\n            sh:focusNode ex:M_Single-Flush_0915x2032mm_400081 ;\\n            sh:resultMessage \"Art.22\\xc2\\xa72 Doors should be at least 1.05m wide.\" ;\\n            sh:resultPath ex:width ;\\n            sh:resultSeverity sh:Violation ;\\n            sh:sourceConstraintComponent sh:MinInclusiveConstraintComponent ;\\n            sh:sourceShape _:neaf57a86fc8a4501a221c3106de7f3e9b2 ;\\n            sh:value 9.15e+02 ] .\\n\\n_:neaf57a86fc8a4501a221c3106de7f3e9b1 sh:datatype xsd:double ;\\n    sh:message \"Art.22\\xc2\\xa71 Doors should be at least 2.09m high.\" ;\\n    sh:minInclusive 2090 ;\\n    sh:path ex:height .\\n\\n_:neaf57a86fc8a4501a221c3106de7f3e9b2 sh:datatype xsd:double ;\\n    sh:message \"Art.22\\xc2\\xa72 Doors should be at least 1.05m wide.\" ;\\n    sh:minInclusive 1050 ;\\n    sh:path ex:width .\\n\\n'\n",
      "Validation Report\n",
      "Conforms: False\n",
      "Results (25):\n",
      "Constraint Violation in MaxExclusiveConstraintComponent (http://www.w3.org/ns/shacl#MaxExclusiveConstraintComponent):\n",
      "\tSeverity: sh:Violation\n",
      "\tSource Shape: [ sh:datatype xsd:integer ; sh:maxExclusive Literal(\"18\", datatype=xsd:integer) ; sh:message Literal(\"Need at most 17 risers\") ; sh:path ex:NumberOfRiser ]\n",
      "\tFocus Node: ex:PrecastStair_Stair_383689\n",
      "\tValue Node: Literal(\"18\", datatype=xsd:integer)\n",
      "\tResult Path: ex:NumberOfRiser\n",
      "\tMessage: Need at most 17 risers\n",
      "Constraint Violation in MinInclusiveConstraintComponent (http://www.w3.org/ns/shacl#MinInclusiveConstraintComponent):\n",
      "\tSeverity: sh:Violation\n",
      "\tSource Shape: [ sh:datatype xsd:double ; sh:message Literal(\"Art.22§1 Doors should be at least 2.09m high.\") ; sh:minInclusive Literal(\"2090\", datatype=xsd:integer) ; sh:path ex:height ]\n",
      "\tFocus Node: ex:M_Single-Flush_0915x2032mm_400081\n",
      "\tValue Node: Literal(\"2032.0\", datatype=xsd:double)\n",
      "\tResult Path: ex:height\n",
      "\tMessage: Art.22§1 Doors should be at least 2.09m high.\n",
      "Constraint Violation in MinInclusiveConstraintComponent (http://www.w3.org/ns/shacl#MinInclusiveConstraintComponent):\n",
      "\tSeverity: sh:Violation\n",
      "\tSource Shape: [ sh:datatype xsd:double ; sh:message Literal(\"Art.22§1 Doors should be at least 2.09m high.\") ; sh:minInclusive Literal(\"2090\", datatype=xsd:integer) ; sh:path ex:height ]\n",
      "\tFocus Node: ex:M_Single-Flush_0915x2032mm_398909\n",
      "\tValue Node: Literal(\"2032.0\", datatype=xsd:double)\n",
      "\tResult Path: ex:height\n",
      "\tMessage: Art.22§1 Doors should be at least 2.09m high.\n",
      "Constraint Violation in MinInclusiveConstraintComponent (http://www.w3.org/ns/shacl#MinInclusiveConstraintComponent):\n",
      "\tSeverity: sh:Violation\n",
      "\tSource Shape: [ sh:datatype xsd:double ; sh:message Literal(\"Art.22§1 Doors should be at least 2.09m high.\") ; sh:minInclusive Literal(\"2090\", datatype=xsd:integer) ; sh:path ex:height ]\n",
      "\tFocus Node: ex:M_Single-Flush_0915x2032mm_399431\n",
      "\tValue Node: Literal(\"2032.0\", datatype=xsd:double)\n",
      "\tResult Path: ex:height\n",
      "\tMessage: Art.22§1 Doors should be at least 2.09m high.\n",
      "Constraint Violation in MinInclusiveConstraintComponent (http://www.w3.org/ns/shacl#MinInclusiveConstraintComponent):\n",
      "\tSeverity: sh:Violation\n",
      "\tSource Shape: [ sh:datatype xsd:double ; sh:message Literal(\"Art.22§1 Doors should be at least 2.09m high.\") ; sh:minInclusive Literal(\"2090\", datatype=xsd:integer) ; sh:path ex:height ]\n",
      "\tFocus Node: ex:M_Single-Flush_0915x2032mm_399643\n",
      "\tValue Node: Literal(\"2032.0\", datatype=xsd:double)\n",
      "\tResult Path: ex:height\n",
      "\tMessage: Art.22§1 Doors should be at least 2.09m high.\n",
      "Constraint Violation in MinInclusiveConstraintComponent (http://www.w3.org/ns/shacl#MinInclusiveConstraintComponent):\n",
      "\tSeverity: sh:Violation\n",
      "\tSource Shape: [ sh:datatype xsd:double ; sh:message Literal(\"Art.22§1 Doors should be at least 2.09m high.\") ; sh:minInclusive Literal(\"2090\", datatype=xsd:integer) ; sh:path ex:height ]\n",
      "\tFocus Node: ex:M_Single-Flush_0915x2032mm_399925\n",
      "\tValue Node: Literal(\"2032.0\", datatype=xsd:double)\n",
      "\tResult Path: ex:height\n",
      "\tMessage: Art.22§1 Doors should be at least 2.09m high.\n",
      "Constraint Violation in MinInclusiveConstraintComponent (http://www.w3.org/ns/shacl#MinInclusiveConstraintComponent):\n",
      "\tSeverity: sh:Violation\n",
      "\tSource Shape: [ sh:datatype xsd:double ; sh:message Literal(\"Art.22§1 Doors should be at least 2.09m high.\") ; sh:minInclusive Literal(\"2090\", datatype=xsd:integer) ; sh:path ex:height ]\n",
      "\tFocus Node: ex:M_Single-Flush_0915x2032mm_399501\n",
      "\tValue Node: Literal(\"2032.0\", datatype=xsd:double)\n",
      "\tResult Path: ex:height\n",
      "\tMessage: Art.22§1 Doors should be at least 2.09m high.\n",
      "Constraint Violation in MinInclusiveConstraintComponent (http://www.w3.org/ns/shacl#MinInclusiveConstraintComponent):\n",
      "\tSeverity: sh:Violation\n",
      "\tSource Shape: [ sh:datatype xsd:double ; sh:message Literal(\"Art.22§1 Doors should be at least 2.09m high.\") ; sh:minInclusive Literal(\"2090\", datatype=xsd:integer) ; sh:path ex:height ]\n",
      "\tFocus Node: ex:M_Single-Flush_0915x2032mm_398822\n",
      "\tValue Node: Literal(\"2032.0\", datatype=xsd:double)\n",
      "\tResult Path: ex:height\n",
      "\tMessage: Art.22§1 Doors should be at least 2.09m high.\n",
      "Constraint Violation in MinInclusiveConstraintComponent (http://www.w3.org/ns/shacl#MinInclusiveConstraintComponent):\n",
      "\tSeverity: sh:Violation\n",
      "\tSource Shape: [ sh:datatype xsd:double ; sh:message Literal(\"Art.22§2 Doors should be at least 1.05m wide.\") ; sh:minInclusive Literal(\"1050\", datatype=xsd:integer) ; sh:path ex:width ]\n",
      "\tFocus Node: ex:M_Single-Flush_0915x2134mm_377662\n",
      "\tValue Node: Literal(\"915.0\", datatype=xsd:double)\n",
      "\tResult Path: ex:width\n",
      "\tMessage: Art.22§2 Doors should be at least 1.05m wide.\n",
      "Constraint Violation in MinInclusiveConstraintComponent (http://www.w3.org/ns/shacl#MinInclusiveConstraintComponent):\n",
      "\tSeverity: sh:Violation\n",
      "\tSource Shape: [ sh:datatype xsd:double ; sh:message Literal(\"Art.22§2 Doors should be at least 1.05m wide.\") ; sh:minInclusive Literal(\"1050\", datatype=xsd:integer) ; sh:path ex:width ]\n",
      "\tFocus Node: ex:M_Single-Flush_0915x2134mm_401415\n",
      "\tValue Node: Literal(\"915.0\", datatype=xsd:double)\n",
      "\tResult Path: ex:width\n",
      "\tMessage: Art.22§2 Doors should be at least 1.05m wide.\n",
      "Constraint Violation in MinInclusiveConstraintComponent (http://www.w3.org/ns/shacl#MinInclusiveConstraintComponent):\n",
      "\tSeverity: sh:Violation\n",
      "\tSource Shape: [ sh:datatype xsd:double ; sh:message Literal(\"Art.22§2 Doors should be at least 1.05m wide.\") ; sh:minInclusive Literal(\"1050\", datatype=xsd:integer) ; sh:path ex:width ]\n",
      "\tFocus Node: ex:M_Single-Flush_0915x2134mm_378401\n",
      "\tValue Node: Literal(\"915.0\", datatype=xsd:double)\n",
      "\tResult Path: ex:width\n",
      "\tMessage: Art.22§2 Doors should be at least 1.05m wide.\n",
      "Constraint Violation in MinInclusiveConstraintComponent (http://www.w3.org/ns/shacl#MinInclusiveConstraintComponent):\n",
      "\tSeverity: sh:Violation\n",
      "\tSource Shape: [ sh:datatype xsd:double ; sh:message Literal(\"Art.22§2 Doors should be at least 1.05m wide.\") ; sh:minInclusive Literal(\"1050\", datatype=xsd:integer) ; sh:path ex:width ]\n",
      "\tFocus Node: ex:M_Single-Flush_0915x2032mm_400081\n",
      "\tValue Node: Literal(\"915.0\", datatype=xsd:double)\n",
      "\tResult Path: ex:width\n",
      "\tMessage: Art.22§2 Doors should be at least 1.05m wide.\n",
      "Constraint Violation in MinInclusiveConstraintComponent (http://www.w3.org/ns/shacl#MinInclusiveConstraintComponent):\n",
      "\tSeverity: sh:Violation\n",
      "\tSource Shape: [ sh:datatype xsd:double ; sh:message Literal(\"Art.22§2 Doors should be at least 1.05m wide.\") ; sh:minInclusive Literal(\"1050\", datatype=xsd:integer) ; sh:path ex:width ]\n",
      "\tFocus Node: ex:M_Single-Flush_0915x2134mm_401572\n",
      "\tValue Node: Literal(\"915.0\", datatype=xsd:double)\n",
      "\tResult Path: ex:width\n",
      "\tMessage: Art.22§2 Doors should be at least 1.05m wide.\n",
      "Constraint Violation in MinInclusiveConstraintComponent (http://www.w3.org/ns/shacl#MinInclusiveConstraintComponent):\n",
      "\tSeverity: sh:Violation\n",
      "\tSource Shape: [ sh:datatype xsd:double ; sh:message Literal(\"Art.22§2 Doors should be at least 1.05m wide.\") ; sh:minInclusive Literal(\"1050\", datatype=xsd:integer) ; sh:path ex:width ]\n",
      "\tFocus Node: ex:M_Single-Flush_0915x2134mm_359949\n",
      "\tValue Node: Literal(\"915.0\", datatype=xsd:double)\n",
      "\tResult Path: ex:width\n",
      "\tMessage: Art.22§2 Doors should be at least 1.05m wide.\n",
      "Constraint Violation in MinInclusiveConstraintComponent (http://www.w3.org/ns/shacl#MinInclusiveConstraintComponent):\n",
      "\tSeverity: sh:Violation\n",
      "\tSource Shape: [ sh:datatype xsd:double ; sh:message Literal(\"Art.22§2 Doors should be at least 1.05m wide.\") ; sh:minInclusive Literal(\"1050\", datatype=xsd:integer) ; sh:path ex:width ]\n",
      "\tFocus Node: ex:M_Single-Flush_0915x2032mm_398909\n",
      "\tValue Node: Literal(\"915.0\", datatype=xsd:double)\n",
      "\tResult Path: ex:width\n",
      "\tMessage: Art.22§2 Doors should be at least 1.05m wide.\n",
      "Constraint Violation in MinInclusiveConstraintComponent (http://www.w3.org/ns/shacl#MinInclusiveConstraintComponent):\n",
      "\tSeverity: sh:Violation\n",
      "\tSource Shape: [ sh:datatype xsd:double ; sh:message Literal(\"Art.22§2 Doors should be at least 1.05m wide.\") ; sh:minInclusive Literal(\"1050\", datatype=xsd:integer) ; sh:path ex:width ]\n",
      "\tFocus Node: ex:M_Single-Flush_0915x2134mm_378243\n",
      "\tValue Node: Literal(\"915.0\", datatype=xsd:double)\n",
      "\tResult Path: ex:width\n",
      "\tMessage: Art.22§2 Doors should be at least 1.05m wide.\n",
      "Constraint Violation in MinInclusiveConstraintComponent (http://www.w3.org/ns/shacl#MinInclusiveConstraintComponent):\n",
      "\tSeverity: sh:Violation\n",
      "\tSource Shape: [ sh:datatype xsd:double ; sh:message Literal(\"Art.22§2 Doors should be at least 1.05m wide.\") ; sh:minInclusive Literal(\"1050\", datatype=xsd:integer) ; sh:path ex:width ]\n",
      "\tFocus Node: ex:M_Single-Flush_0915x2134mm_378185\n",
      "\tValue Node: Literal(\"915.0\", datatype=xsd:double)\n",
      "\tResult Path: ex:width\n",
      "\tMessage: Art.22§2 Doors should be at least 1.05m wide.\n",
      "Constraint Violation in MinInclusiveConstraintComponent (http://www.w3.org/ns/shacl#MinInclusiveConstraintComponent):\n",
      "\tSeverity: sh:Violation\n",
      "\tSource Shape: [ sh:datatype xsd:double ; sh:message Literal(\"Art.22§2 Doors should be at least 1.05m wide.\") ; sh:minInclusive Literal(\"1050\", datatype=xsd:integer) ; sh:path ex:width ]\n",
      "\tFocus Node: ex:M_Single-Flush_0915x2032mm_399431\n",
      "\tValue Node: Literal(\"915.0\", datatype=xsd:double)\n",
      "\tResult Path: ex:width\n",
      "\tMessage: Art.22§2 Doors should be at least 1.05m wide.\n",
      "Constraint Violation in MinInclusiveConstraintComponent (http://www.w3.org/ns/shacl#MinInclusiveConstraintComponent):\n",
      "\tSeverity: sh:Violation\n",
      "\tSource Shape: [ sh:datatype xsd:double ; sh:message Literal(\"Art.22§2 Doors should be at least 1.05m wide.\") ; sh:minInclusive Literal(\"1050\", datatype=xsd:integer) ; sh:path ex:width ]\n",
      "\tFocus Node: ex:M_Single-Flush_0915x2032mm_399643\n",
      "\tValue Node: Literal(\"915.0\", datatype=xsd:double)\n",
      "\tResult Path: ex:width\n",
      "\tMessage: Art.22§2 Doors should be at least 1.05m wide.\n",
      "Constraint Violation in MinInclusiveConstraintComponent (http://www.w3.org/ns/shacl#MinInclusiveConstraintComponent):\n",
      "\tSeverity: sh:Violation\n",
      "\tSource Shape: [ sh:datatype xsd:double ; sh:message Literal(\"Art.22§2 Doors should be at least 1.05m wide.\") ; sh:minInclusive Literal(\"1050\", datatype=xsd:integer) ; sh:path ex:width ]\n",
      "\tFocus Node: ex:M_Single-Flush_0915x2134mm_378321\n",
      "\tValue Node: Literal(\"915.0\", datatype=xsd:double)\n",
      "\tResult Path: ex:width\n",
      "\tMessage: Art.22§2 Doors should be at least 1.05m wide.\n",
      "Constraint Violation in MinInclusiveConstraintComponent (http://www.w3.org/ns/shacl#MinInclusiveConstraintComponent):\n",
      "\tSeverity: sh:Violation\n",
      "\tSource Shape: [ sh:datatype xsd:double ; sh:message Literal(\"Art.22§2 Doors should be at least 1.05m wide.\") ; sh:minInclusive Literal(\"1050\", datatype=xsd:integer) ; sh:path ex:width ]\n",
      "\tFocus Node: ex:M_Single-Flush_0915x2032mm_399925\n",
      "\tValue Node: Literal(\"915.0\", datatype=xsd:double)\n",
      "\tResult Path: ex:width\n",
      "\tMessage: Art.22§2 Doors should be at least 1.05m wide.\n",
      "Constraint Violation in MinInclusiveConstraintComponent (http://www.w3.org/ns/shacl#MinInclusiveConstraintComponent):\n",
      "\tSeverity: sh:Violation\n",
      "\tSource Shape: [ sh:datatype xsd:double ; sh:message Literal(\"Art.22§2 Doors should be at least 1.05m wide.\") ; sh:minInclusive Literal(\"1050\", datatype=xsd:integer) ; sh:path ex:width ]\n",
      "\tFocus Node: ex:M_Single-Flush_0915x2032mm_399501\n",
      "\tValue Node: Literal(\"915.0\", datatype=xsd:double)\n",
      "\tResult Path: ex:width\n",
      "\tMessage: Art.22§2 Doors should be at least 1.05m wide.\n",
      "Constraint Violation in MinInclusiveConstraintComponent (http://www.w3.org/ns/shacl#MinInclusiveConstraintComponent):\n",
      "\tSeverity: sh:Violation\n",
      "\tSource Shape: [ sh:datatype xsd:double ; sh:message Literal(\"Art.22§2 Doors should be at least 1.05m wide.\") ; sh:minInclusive Literal(\"1050\", datatype=xsd:integer) ; sh:path ex:width ]\n",
      "\tFocus Node: ex:M_Single-Flush_0915x2134mm_358480\n",
      "\tValue Node: Literal(\"915.0\", datatype=xsd:double)\n",
      "\tResult Path: ex:width\n",
      "\tMessage: Art.22§2 Doors should be at least 1.05m wide.\n",
      "Constraint Violation in MinInclusiveConstraintComponent (http://www.w3.org/ns/shacl#MinInclusiveConstraintComponent):\n",
      "\tSeverity: sh:Violation\n",
      "\tSource Shape: [ sh:datatype xsd:double ; sh:message Literal(\"Art.22§2 Doors should be at least 1.05m wide.\") ; sh:minInclusive Literal(\"1050\", datatype=xsd:integer) ; sh:path ex:width ]\n",
      "\tFocus Node: ex:M_Single-Flush_0915x2032mm_398822\n",
      "\tValue Node: Literal(\"915.0\", datatype=xsd:double)\n",
      "\tResult Path: ex:width\n",
      "\tMessage: Art.22§2 Doors should be at least 1.05m wide.\n",
      "Constraint Violation in MinInclusiveConstraintComponent (http://www.w3.org/ns/shacl#MinInclusiveConstraintComponent):\n",
      "\tSeverity: sh:Violation\n",
      "\tSource Shape: [ sh:datatype xsd:double ; sh:message Literal(\"Art.22§2 Doors should be at least 1.05m wide.\") ; sh:minInclusive Literal(\"1050\", datatype=xsd:integer) ; sh:path ex:width ]\n",
      "\tFocus Node: ex:M_Single-Flush_0915x2134mm_358185\n",
      "\tValue Node: Literal(\"915.0\", datatype=xsd:double)\n",
      "\tResult Path: ex:width\n",
      "\tMessage: Art.22§2 Doors should be at least 1.05m wide.\n",
      "\n"
     ]
    }
   ],
   "source": [
    "shape_query = '''\n",
    "@prefix dash: <http://datashapes.org/dash#> .\n",
    "@prefix rdf: <http://www.w3.org/1999/02/22-rdf-syntax-ns#> .\n",
    "@prefix rdfs: <http://www.w3.org/2000/01/rdf-schema#> .\n",
    "@prefix schema: <http://schema.org/> .\n",
    "@prefix sh: <http://www.w3.org/ns/shacl#> .\n",
    "@prefix xsd: <http://www.w3.org/2001/XMLSchema#> .\n",
    "\n",
    "@prefix beo: <https://w3id.org/beo#> .\n",
    "@prefix ex: <https://example.org#> .\n",
    "\n",
    "ex:DoorShape\n",
    "    a sh:NodeShape ;\n",
    "    sh:targetClass beo:Door ;\n",
    "    sh:property [\n",
    "        sh:path ex:height ;\n",
    "        sh:datatype xsd:double ;\n",
    "        sh:minInclusive 2090 ;\n",
    "        # sh:maxInclusive 1000 ;\n",
    "        sh:message \"Art.22§1 Doors should be at least 2.09m high.\" ;\n",
    "    ] .\n",
    "\n",
    "ex:DoorShape\n",
    "    a sh:NodeShape ;\n",
    "    sh:targetClass beo:Door ;\n",
    "    sh:property [\n",
    "        sh:path ex:width ;\n",
    "        sh:datatype xsd:double ;\n",
    "        sh:minInclusive 1050 ;\n",
    "        # sh:maxInclusive 1000 ;\n",
    "        sh:message \"Art.22§2 Doors should be at least 1.05m wide.\" ;\n",
    "    ] .\n",
    "\n",
    "\n",
    "ex:StairShape\n",
    "    a sh:NodeShape ;\n",
    "    sh:targetClass beo:Stair ;\n",
    "    sh:property [\n",
    "        sh:path ex:NumberOfRiser ;\n",
    "        sh:maxExclusive 18 ;\n",
    "        sh:datatype xsd:integer ;\n",
    "        sh:message \"Need at most 17 risers\";\n",
    "    ] .\n",
    "'''\n",
    "\n",
    "conforms, v_graph, v_text = validate(\n",
    "    data_ttl_file,\n",
    "    shacl_graph=shape_query,\n",
    "    inference='rdfs',\n",
    "    serialize_report_graph=True\n",
    ")\n",
    "print(conforms)\n",
    "print(v_graph)\n",
    "print(v_text)"
   ]
  }
 ],
 "metadata": {
  "kernelspec": {
   "display_name": "venv",
   "language": "python",
   "name": "python3"
  },
  "language_info": {
   "codemirror_mode": {
    "name": "ipython",
    "version": 3
   },
   "file_extension": ".py",
   "mimetype": "text/x-python",
   "name": "python",
   "nbconvert_exporter": "python",
   "pygments_lexer": "ipython3",
   "version": "3.12.3"
  }
 },
 "nbformat": 4,
 "nbformat_minor": 2
}
