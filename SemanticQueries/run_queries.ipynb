{
 "cells": [
  {
   "cell_type": "markdown",
   "metadata": {},
   "source": [
    "# Perform Queries in our Graph"
   ]
  },
  {
   "cell_type": "code",
   "execution_count": 2,
   "metadata": {},
   "outputs": [
    {
     "data": {
      "text/plain": [
       "<Graph identifier=Nc66e8ee36bed4b3d90e332969e567bd3 (<class 'rdflib.graph.Graph'>)>"
      ]
     },
     "execution_count": 2,
     "metadata": {},
     "output_type": "execute_result"
    }
   ],
   "source": [
    "from rdflib import Graph\n",
    "g = Graph()\n",
    "g.parse(\"../IFC Conversion/house.ttl\")\n",
    "\n",
    "g"
   ]
  },
  {
   "cell_type": "markdown",
   "metadata": {},
   "source": [
    "## Using SPARQL"
   ]
  },
  {
   "cell_type": "markdown",
   "metadata": {},
   "source": [
    "### Art. 22§2\n",
    "\n",
    "The doors with width below 1050mm"
   ]
  },
  {
   "cell_type": "code",
   "execution_count": 3,
   "metadata": {},
   "outputs": [
    {
     "name": "stdout",
     "output_type": "stream",
     "text": [
      "Found these Doors with Width below 1050 mm: \n",
      "https://example.org#M_Single-Flush_0915x2032mm_398822 - door width = 915.0\n",
      "https://example.org#M_Single-Flush_0915x2032mm_398909 - door width = 915.0\n",
      "https://example.org#M_Single-Flush_0915x2032mm_399431 - door width = 915.0\n",
      "https://example.org#M_Single-Flush_0915x2032mm_399501 - door width = 915.0\n",
      "https://example.org#M_Single-Flush_0915x2032mm_399643 - door width = 915.0\n",
      "https://example.org#M_Single-Flush_0915x2032mm_399925 - door width = 915.0\n",
      "https://example.org#M_Single-Flush_0915x2032mm_400081 - door width = 915.0\n",
      "https://example.org#M_Single-Flush_0915x2134mm_358185 - door width = 915.0\n",
      "https://example.org#M_Single-Flush_0915x2134mm_358480 - door width = 915.0\n",
      "https://example.org#M_Single-Flush_0915x2134mm_359949 - door width = 915.0\n",
      "https://example.org#M_Single-Flush_0915x2134mm_377662 - door width = 915.0\n",
      "https://example.org#M_Single-Flush_0915x2134mm_378185 - door width = 915.0\n",
      "https://example.org#M_Single-Flush_0915x2134mm_378243 - door width = 915.0\n",
      "https://example.org#M_Single-Flush_0915x2134mm_378321 - door width = 915.0\n",
      "https://example.org#M_Single-Flush_0915x2134mm_378401 - door width = 915.0\n",
      "https://example.org#M_Single-Flush_0915x2134mm_401415 - door width = 915.0\n",
      "https://example.org#M_Single-Flush_0915x2134mm_401572 - door width = 915.0\n"
     ]
    }
   ],
   "source": [
    "ourQuery = \"\"\"\n",
    "PREFIX bot: <https://w3id.org/bot#>\n",
    "PREFIX beo: <https://w3id.org/beo#>\n",
    "PREFIX rdf: <http://www.w3.org/1999/02/22-rdf-syntax-ns#>\n",
    "\n",
    "SELECT ?s ?w\n",
    "WHERE{ ?s rdf:type beo:Door .\n",
    "    ?s ex:width ?w .\n",
    "    FILTER (?w < 1050)\n",
    "}\n",
    "\"\"\"\n",
    "\n",
    "qres = g.query(ourQuery)\n",
    "\n",
    "print( \"Found these Doors with Width below 1050 mm: \" )\n",
    "for row in qres:\n",
    "    print(f\"{row.s} - door width = {row.w}\")"
   ]
  },
  {
   "cell_type": "markdown",
   "metadata": {},
   "source": [
    "### Art. 20§2\n",
    "\n",
    "Stairs can have at most 17 risers."
   ]
  },
  {
   "cell_type": "code",
   "execution_count": 4,
   "metadata": {},
   "outputs": [
    {
     "name": "stdout",
     "output_type": "stream",
     "text": [
      "Found these Stair(s) with more than 17 risers:\n",
      "https://example.org#PrecastStair_Stair_383689 : Risers = 18\n"
     ]
    }
   ],
   "source": [
    "ourQuery = \"\"\"\n",
    "# Check Riser Height\n",
    "PREFIX ex: <https://example.org#>\n",
    "PREFIX beo: <https://w3id.org/beo#>\n",
    "select * where {\n",
    "    ?s ?p beo:Stair .\n",
    "    ?s ex:NumberOfRailings ?rl .\n",
    "    ?s ex:NumberOfRiser ?ri .\n",
    "    ?s ex:RiserHeight ?rh .\n",
    "    ?s ex:TreadLength ?tl\n",
    "    FILTER(?ri > 17)\n",
    "} limit 100\n",
    "\"\"\"\n",
    "\n",
    "qres = g.query(ourQuery)\n",
    "\n",
    "if len(qres) > 0:\n",
    "    print( \"Found these Stair(s) with more than 17 risers:\" )\n",
    "    for row in qres:\n",
    "        print(f\"{row.s} : Risers = {row.ri}\")\n",
    "else:\n",
    "    print( \"No stairs have more than 17 risers.\" )"
   ]
  },
  {
   "cell_type": "markdown",
   "metadata": {},
   "source": [
    "### Art. 20§3\n",
    "\n",
    "The height of risers may be at most 18cm."
   ]
  },
  {
   "cell_type": "code",
   "execution_count": 5,
   "metadata": {},
   "outputs": [
    {
     "name": "stdout",
     "output_type": "stream",
     "text": [
      "All stairs have a small enough riser height.\n"
     ]
    }
   ],
   "source": [
    "ourQuery = \"\"\"\n",
    "# Check Riser Height\n",
    "PREFIX ex: <https://example.org#>\n",
    "PREFIX beo: <https://w3id.org/beo#>\n",
    "select * where {\n",
    "    ?s ?p beo:Stair .\n",
    "    ?s ex:NumberOfRailings ?r .\n",
    "    ?s ex:RiserHeight ?rh .\n",
    "    ?s ex:TreadLength ?tl\n",
    "    FILTER(?rh > 180)\n",
    "} limit 100\n",
    "\"\"\"\n",
    "\n",
    "qres = g.query(ourQuery)\n",
    "\n",
    "if len(qres) > 0:\n",
    "    print( \"Found these Stairs too high risers:\" )\n",
    "    for row in qres:\n",
    "        print(f\"{row.s} : RH = {row.rh} TL = {row.tl}\")\n",
    "else:\n",
    "    print( \"All stairs have a small enough riser height.\" )"
   ]
  },
  {
   "cell_type": "markdown",
   "metadata": {},
   "source": [
    "The length of treads should be at least 23cm."
   ]
  },
  {
   "cell_type": "code",
   "execution_count": 6,
   "metadata": {},
   "outputs": [
    {
     "name": "stdout",
     "output_type": "stream",
     "text": [
      "All stairs have a sufficient tread length.\n"
     ]
    }
   ],
   "source": [
    "ourQuery = \"\"\"\n",
    "# Check Riser Height\n",
    "PREFIX ex: <https://example.org#>\n",
    "PREFIX beo: <https://w3id.org/beo#>\n",
    "select * where {\n",
    "    ?s ?p beo:Stair .\n",
    "    ?s ex:NumberOfRailings ?r .\n",
    "    ?s ex:RiserHeight ?rh .\n",
    "    ?s ex:TreadLength ?tl\n",
    "    FILTER(?tl < 230)\n",
    "} limit 100\n",
    "\"\"\"\n",
    "\n",
    "qres = g.query(ourQuery)\n",
    "\n",
    "if len(qres) > 0:\n",
    "    print( \"Found these Stairs with too short tread lengths:\" )\n",
    "    for row in qres:\n",
    "        print(f\"{row.s} : RH = {row.rh} TL = {row.tl}\")\n",
    "else:\n",
    "    print( \"All stairs have a sufficient tread length.\" )"
   ]
  },
  {
   "cell_type": "markdown",
   "metadata": {},
   "source": [
    "### Art. 20§3\n",
    "The stairs and the calculated stair formula: 2xRiser + 1x TreadLength"
   ]
  },
  {
   "cell_type": "code",
   "execution_count": 7,
   "metadata": {},
   "outputs": [
    {
     "name": "stdout",
     "output_type": "stream",
     "text": [
      "Found these Stairs with non-compliant Stair Formula: \n",
      "https://example.org#PrecastStair_Stair_397996 : 2xRH+TL = 454\n"
     ]
    }
   ],
   "source": [
    "ourQuery = \"\"\"\n",
    "# Check Stair formula\n",
    "PREFIX ex: <https://example.org#>\n",
    "PREFIX beo: <https://w3id.org/beo#>\n",
    "select * where {\n",
    "    ?s ?p beo:Stair .\n",
    "    ?s ex:NumberOfRailings ?r .\n",
    "    ?s ex:RiserHeight ?rh .\n",
    "    ?s ex:TreadLength ?tl\n",
    "    BIND( (2 * ?rh + ?tl) AS ?StairFormula )\n",
    "    FILTER((?StairFormula < 590) || (?StairFormula > 630))\n",
    "} limit 100\n",
    "\"\"\"\n",
    "\n",
    "qres = g.query(ourQuery)\n",
    "\n",
    "if len(qres) > 0:\n",
    "    print( \"Found these Stairs with non-compliant Stair Formula: \" )\n",
    "    for row in qres:\n",
    "        print(f\"{row.s} : 2xRH+TL = {row.StairFormula}\")\n",
    "else:\n",
    "    print(\"All stairs comply with the Stair Formula\")"
   ]
  }
 ],
 "metadata": {
  "kernelspec": {
   "display_name": "venv",
   "language": "python",
   "name": "python3"
  },
  "language_info": {
   "codemirror_mode": {
    "name": "ipython",
    "version": 3
   },
   "file_extension": ".py",
   "mimetype": "text/x-python",
   "name": "python",
   "nbconvert_exporter": "python",
   "pygments_lexer": "ipython3",
   "version": "3.12.3"
  }
 },
 "nbformat": 4,
 "nbformat_minor": 2
}
