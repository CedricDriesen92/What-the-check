{
 "cells": [
  {
   "cell_type": "markdown",
   "metadata": {},
   "source": [
    "### Loading IFC data  \n",
    "To explore the IFC model, we use the [IfcOpenShell](https://docs.ifcopenshell.org/ifcopenshell-python/installation.html) module, you will have to install it again when using a virtual environment. <br>\n"
   ]
  },
  {
   "cell_type": "code",
   "execution_count": 65,
   "metadata": {},
   "outputs": [],
   "source": [
    "import ifcopenshell as ios\n",
    "\n",
    "model = ios.open(\"../datasets/heartbreak_hotel.ifc\")"
   ]
  },
  {
   "cell_type": "markdown",
   "metadata": {},
   "source": [
    "### Iterating over the IfcStair instances \n",
    "We want to iterate over all stair instances and their properties and drop them into a list.<br> \n",
    "The same applies to relational object instances, as these define other objects that may be related to a stair flight, such as railings... "
   ]
  },
  {
   "cell_type": "code",
   "execution_count": 66,
   "metadata": {},
   "outputs": [
    {
     "name": "stdout",
     "output_type": "stream",
     "text": [
      "3 IfcStairs found\n"
     ]
    }
   ],
   "source": [
    "ifcstairs = model.by_type('IfcStair')\n",
    "relations = model.by_type('IfcRelAggregates')\n",
    "print(str(len(ifcstairs))+' IfcStairs found')"
   ]
  },
  {
   "cell_type": "code",
   "execution_count": 67,
   "metadata": {},
   "outputs": [
    {
     "name": "stdout",
     "output_type": "stream",
     "text": [
      "18 Ifcdoors found\n"
     ]
    }
   ],
   "source": [
    "ifcdoors = model.by_type('IfcDoor')\n",
    "print(str(len(ifcdoors))+' Ifcdoors found')"
   ]
  },
  {
   "cell_type": "markdown",
   "metadata": {},
   "source": [
    "### Drilling down the IfcModel in search for the IfcStair properties\n",
    "For convenience, we use a custom Python class that represents a stair concept. "
   ]
  },
  {
   "cell_type": "code",
   "execution_count": 68,
   "metadata": {},
   "outputs": [],
   "source": [
    "class Stair:\n",
    "    def __init__(self, name, riserheight, threadlength, railings):\n",
    "        self.name = name\n",
    "        self.RiserHeight = riserheight\n",
    "        self.ThreadLength = threadlength\n",
    "        self.NumberOfRailings = railings\n",
    "\n",
    "class Door:\n",
    "    def __init__(self, name, width):\n",
    "        self.name = name\n",
    "        self.width = width\n"
   ]
  },
  {
   "cell_type": "code",
   "execution_count": 69,
   "metadata": {},
   "outputs": [
    {
     "name": "stdout",
     "output_type": "stream",
     "text": [
      "3 stairs created.\n"
     ]
    }
   ],
   "source": [
    "stair_list = []\n",
    "\n",
    "for ifcstair in ifcstairs:\n",
    "    if hasattr(ifcstair, \"IsDefinedBy\"):\n",
    "        for rel in ifcstair.IsDefinedBy:\n",
    "            if rel.is_a(\"IfcRelDefinesByProperties\"):\n",
    "                property_set = rel.RelatingPropertyDefinition\n",
    "                if property_set.is_a(\"IfcPropertySet\") and property_set.Name == \"Pset_StairCommon\":\n",
    "                    if hasattr(property_set, \"HasProperties\"):\n",
    "                        for property in property_set.HasProperties:\n",
    "                            if property.is_a(\"IfcPropertySingleValue\"):\n",
    "                                if property.Name == \"RiserHeight\":\n",
    "                                    riserheight = round(property.NominalValue.wrappedValue)\n",
    "                                if property.Name == \"TreadLength\":\n",
    "                                    threadlength = round(property.NominalValue.wrappedValue)\n",
    "    numberofrailings=0\n",
    "    for rel in relations:\n",
    "        for related_element in rel.RelatedObjects:\n",
    "            if related_element.is_a(\"IfcRailing\"):\n",
    "                if rel.RelatingObject.GlobalId == ifcstair.GlobalId:\n",
    "                    numberofrailings +=1\n",
    "    \n",
    "    new_stair = Stair(ifcstair.Name, riserheight, threadlength, numberofrailings)\n",
    "    stair_list.append(new_stair)\n",
    "    \n",
    "print(len(stair_list), \"stairs created.\")"
   ]
  },
  {
   "cell_type": "code",
   "execution_count": 70,
   "metadata": {},
   "outputs": [
    {
     "name": "stdout",
     "output_type": "stream",
     "text": [
      "18 doors created.\n"
     ]
    }
   ],
   "source": [
    "door_list = []\n",
    "\n",
    "for ifcdoor in ifcdoors:\n",
    "    name = \"\"\n",
    "    width = 0.0\n",
    "    if hasattr(ifcdoor, \"Name\"):\n",
    "        name = ifcdoor.Name\n",
    "    if hasattr(ifcdoor, \"OverallWidth\"):\n",
    "        width = ifcdoor.OverallWidth\n",
    "    \n",
    "    new_door = Door(name=name, width=width)\n",
    "    door_list.append(new_door)\n",
    "\n",
    "print(len(door_list), \"doors created.\")"
   ]
  },
  {
   "cell_type": "markdown",
   "metadata": {},
   "source": [
    "### Dumping the stair & door data\n",
    "Finally, we write the list of stair & door objects to a json file. In an intermediate step, we transform the list into a dictionary. Note that the json module has to be imported first. "
   ]
  },
  {
   "cell_type": "code",
   "execution_count": 71,
   "metadata": {},
   "outputs": [],
   "source": [
    "\n",
    "import json\n",
    "\n",
    "stairs_dict = [stair.__dict__ for stair in stair_list]\n",
    "with open(\"stairs.json\", \"w\") as json_file:\n",
    "    json.dump(stairs_dict, json_file, indent=4)\n",
    "\n",
    "doors_dict = [door.__dict__ for door in door_list]\n",
    "with open(\"doors.json\", \"w\") as json_file:\n",
    "    json.dump(doors_dict, json_file, indent=4)"
   ]
  },
  {
   "cell_type": "markdown",
   "metadata": {},
   "source": [
    "## Or even better... straight info LBD?"
   ]
  },
  {
   "cell_type": "code",
   "execution_count": 80,
   "metadata": {},
   "outputs": [
    {
     "name": "stdout",
     "output_type": "stream",
     "text": [
      "Created house.ttl in folder:\n",
      "/Users/stefan/Repositories/FireBIM/SSolDAC2024/What-the-check/IFC Conversion\n"
     ]
    }
   ],
   "source": [
    "# Import needed components from rdflib\n",
    "from rdflib import Graph , Literal , BNode , Namespace , RDF , RDFS , OWL , URIRef\n",
    "\n",
    "# initiate triple store, i.e. Graph()\n",
    "g = Graph()\n",
    "\n",
    "# Add namespaces and prefixes for ontologies\n",
    "g.bind(\"owl\", OWL)\n",
    "BOT = Namespace(\"https://w3id.org/bot#\")\n",
    "g.bind(\"bot\", BOT)\n",
    "BEO = Namespace(\"https://w3id.org/beo#\")\n",
    "g.bind(\"beo\", BEO)\n",
    "MEP = Namespace(\"https://pi.pauwel.be/voc/distributionelement#\")\n",
    "g.bind(\"mep\", MEP)\n",
    "\n",
    "# Add namespace and prefix for instance graph (ABox)\n",
    "INST = Namespace(\"https://example.org/OurBuilding#\")\n",
    "g.bind(\"\", INST) # bind to default empty prefix\n",
    "g.bind(\"inst\", INST) # bind to inst prefix\n",
    "\n",
    "# Initiate ontology entity\n",
    "s = URIRef(\"https://example.org/OurBuilding\")\n",
    "p = RDF.type\n",
    "o = OWL.Ontology\n",
    "g.add((s, p, o))\n",
    "\n",
    "\n",
    "# Now add the instances\n",
    "for stair in stair_list:\n",
    "    s = INST[str(stair.name).replace(\" \",\"\")]\n",
    "    p = RDF.type\n",
    "    o = URIRef(\"beo:Stair\")\n",
    "    g.add((s, p, o))\n",
    "\n",
    "    # s = INST[str(stair.name).replace(\" \",\"\")]\n",
    "    # p = RDF.type\n",
    "    # o = URIRef(\"beo:Stair\")\n",
    "    # g.add((s, p, o))\n",
    "    # Stair(name, riserheight, threadlength, numberofrailings)\n",
    "\n",
    "\n",
    "for door in door_list:\n",
    "    door_name = str(door.name).replace(\" \",\"\")\n",
    "    s = INST[door_name]\n",
    "    p = RDF.type\n",
    "    o = URIRef(\"beo:Door\")\n",
    "    g.add((s, p, o))\n",
    "    g.add((s, RDFS.label, Literal(door.name)))\n",
    "    \n",
    "    # Width property & value\n",
    "    # w = INST[\"width_of_\" + door_name]\n",
    "    # g.add((w, RDF.type, RDF.Property))\n",
    "    # g.add((w, OWL.DatatypeProperty, Literal(door.width, datatype=\"real\"))) # datatype? Length?\n",
    "    # # Link property to the object\n",
    "    # g.add((s, OWL.ObjectProperty, w))\n",
    "\n",
    "    # simple version\n",
    "    g.add((s, URIRef(\"ex:width\"), Literal(door.width)))\n",
    "\n",
    "\n",
    "# Store the TTL\n",
    "import os\n",
    "g.serialize(destination = \"house.ttl\", format = \"turtle\")\n",
    "print(\"Created house.ttl in folder:\")\n",
    "print(str(os.getcwd()))"
   ]
  },
  {
   "cell_type": "code",
   "execution_count": 78,
   "metadata": {},
   "outputs": [
    {
     "name": "stdout",
     "output_type": "stream",
     "text": [
      "--- printing raw triples ---\n",
      "(rdflib.term.URIRef('https://example.org/OurBuilding#M_Single-Flush:0915x2134mm:358185'), rdflib.term.URIRef('http://www.w3.org/1999/02/22-rdf-syntax-ns#type'), rdflib.term.URIRef('beo:Door'))\n",
      "(rdflib.term.URIRef('https://example.org/OurBuilding#M_Single-Flush:0915x2134mm:358185'), rdflib.term.URIRef('http://www.w3.org/2002/07/owl#ObjectProperty'), rdflib.term.URIRef('https://example.org/OurBuilding#width_of_M_Single-Flush:0915x2134mm:358185'))\n",
      "(rdflib.term.URIRef('https://example.org/OurBuilding#PrecastStair:Stair:397996'), rdflib.term.URIRef('http://www.w3.org/1999/02/22-rdf-syntax-ns#type'), rdflib.term.URIRef('beo:Stair'))\n",
      "(rdflib.term.URIRef('https://example.org/OurBuilding#M_Single-Flush:0915x2134mm:358185'), rdflib.term.URIRef('http://www.w3.org/2000/01/rdf-schema#label'), rdflib.term.Literal('M_Single-Flush:0915 x 2134mm:358185'))\n",
      "(rdflib.term.URIRef('https://example.org/OurBuilding#width_of_M_Single-Flush:0915x2134mm:358185'), rdflib.term.URIRef('http://www.w3.org/1999/02/22-rdf-syntax-ns#type'), rdflib.term.URIRef('http://www.w3.org/1999/02/22-rdf-syntax-ns#Property'))\n",
      "(rdflib.term.URIRef('https://example.org/OurBuilding#PrecastStair:Stair:383689'), rdflib.term.URIRef('http://www.w3.org/1999/02/22-rdf-syntax-ns#type'), rdflib.term.URIRef('beo:Stair'))\n",
      "(rdflib.term.URIRef('https://example.org/OurBuilding#PrecastStair:Stair:381758'), rdflib.term.URIRef('http://www.w3.org/1999/02/22-rdf-syntax-ns#type'), rdflib.term.URIRef('beo:Stair'))\n",
      "(rdflib.term.URIRef('https://example.org/OurBuilding'), rdflib.term.URIRef('http://www.w3.org/1999/02/22-rdf-syntax-ns#type'), rdflib.term.URIRef('http://www.w3.org/2002/07/owl#Ontology'))\n",
      "(rdflib.term.URIRef('https://example.org/OurBuilding#width_of_M_Single-Flush:0915x2134mm:358185'), rdflib.term.URIRef('http://www.w3.org/2002/07/owl#DatatypeProperty'), rdflib.term.Literal('914.9999999999999', datatype=rdflib.term.URIRef('real')))\n"
     ]
    }
   ],
   "source": [
    "# Iterate over triples in store and print them out.\n",
    "print(\"--- printing raw triples ---\")\n",
    "for s, p, o in g:\n",
    "    print((s, p, o))"
   ]
  },
  {
   "cell_type": "code",
   "execution_count": null,
   "metadata": {},
   "outputs": [
    {
     "name": "stdout",
     "output_type": "stream",
     "text": [
      "(rdflib.term.URIRef('https://example.org/OurBuilding'), rdflib.term.URIRef('http://www.w3.org/1999/02/22-rdf-syntax-ns#type'), rdflib.term.URIRef('http://www.w3.org/2002/07/owl#Ontology'))\n",
      "\n",
      "We have the following number of statements:\n",
      "1\n"
     ]
    }
   ],
   "source": [
    "for stmt in g:\n",
    "    print(stmt)\n",
    "\n",
    "print()\n",
    "print(\"We have the following number of statements:\")\n",
    "print(len(g))"
   ]
  },
  {
   "cell_type": "markdown",
   "metadata": {},
   "source": [
    "### Perform some queries"
   ]
  },
  {
   "cell_type": "code",
   "execution_count": null,
   "metadata": {},
   "outputs": [
    {
     "name": "stdout",
     "output_type": "stream",
     "text": [
      "Found these objects: \n"
     ]
    }
   ],
   "source": [
    "# Exercise: Add your SPARQL query here to list all spaces. \n",
    "\n",
    "ourQuery = \"\"\"\n",
    "PREFIX bot: <https://w3id.org/bot#>\n",
    "PREFIX beo: <https://w3id.org/beo#>\n",
    "PREFIX rdf: <http://www.w3.org/1999/02/22-rdf-syntax-ns#>\n",
    "\n",
    "SELECT ?s\n",
    "WHERE{ ?s rdf:type beo:Door }\n",
    "\"\"\"\n",
    "\n",
    "qres = g.query(ourQuery)\n",
    "\n",
    "print( \"Found these objects: \" )\n",
    "for row in qres:\n",
    "    print(f\"{row.s}\")"
   ]
  }
 ],
 "metadata": {
  "kernelspec": {
   "display_name": "Python 3",
   "language": "python",
   "name": "python3"
  },
  "language_info": {
   "codemirror_mode": {
    "name": "ipython",
    "version": 3
   },
   "file_extension": ".py",
   "mimetype": "text/x-python",
   "name": "python",
   "nbconvert_exporter": "python",
   "pygments_lexer": "ipython3",
   "version": "3.12.3"
  }
 },
 "nbformat": 4,
 "nbformat_minor": 2
}
