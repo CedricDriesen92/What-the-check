{
 "cells": [
  {
   "cell_type": "markdown",
   "metadata": {},
   "source": [
    "### Loading IFC data  \n",
    "To explore the IFC model, we use the [IfcOpenShell](https://docs.ifcopenshell.org/ifcopenshell-python/installation.html) module, you will have to install it again when using a virtual environment. <br>\n"
   ]
  },
  {
   "cell_type": "code",
   "execution_count": 112,
   "metadata": {},
   "outputs": [],
   "source": [
    "import ifcopenshell as ios\n",
    "\n",
    "model = ios.open(\"../datasets/heartbreak_hotel.ifc\")"
   ]
  },
  {
   "cell_type": "markdown",
   "metadata": {},
   "source": [
    "### Iterating over the IfcStair instances \n",
    "We want to iterate over all stair instances and their properties and drop them into a list.<br> \n",
    "The same applies to relational object instances, as these define other objects that may be related to a stair flight, such as railings... "
   ]
  },
  {
   "cell_type": "code",
   "execution_count": 113,
   "metadata": {},
   "outputs": [
    {
     "name": "stdout",
     "output_type": "stream",
     "text": [
      "3 IfcStairs found\n",
      "18 Ifcdoors found\n"
     ]
    }
   ],
   "source": [
    "ifcstairs = model.by_type('IfcStair')\n",
    "relations = model.by_type('IfcRelAggregates')\n",
    "print(str(len(ifcstairs))+' IfcStairs found')\n",
    "ifcdoors = model.by_type('IfcDoor')\n",
    "print(str(len(ifcdoors))+' Ifcdoors found')"
   ]
  },
  {
   "cell_type": "markdown",
   "metadata": {},
   "source": [
    "### Drilling down the IfcModel in search for the IfcStair properties\n",
    "For convenience, we use a custom Python class that represents a stair concept. "
   ]
  },
  {
   "cell_type": "code",
   "execution_count": 114,
   "metadata": {},
   "outputs": [],
   "source": [
    "class Stair:\n",
    "    def __init__(self, name, riserheight, threadlength, railings):\n",
    "        self.name = name\n",
    "        self.RiserHeight = riserheight\n",
    "        self.ThreadLength = threadlength\n",
    "        self.NumberOfRailings = railings\n",
    "\n",
    "class Door:\n",
    "    def __init__(self, name, width):\n",
    "        self.name = name\n",
    "        self.width = width\n"
   ]
  },
  {
   "cell_type": "code",
   "execution_count": 115,
   "metadata": {},
   "outputs": [
    {
     "name": "stdout",
     "output_type": "stream",
     "text": [
      "3 stairs created.\n"
     ]
    }
   ],
   "source": [
    "stair_list = []\n",
    "\n",
    "for ifcstair in ifcstairs:\n",
    "    if hasattr(ifcstair, \"IsDefinedBy\"):\n",
    "        for rel in ifcstair.IsDefinedBy:\n",
    "            if rel.is_a(\"IfcRelDefinesByProperties\"):\n",
    "                property_set = rel.RelatingPropertyDefinition\n",
    "                if property_set.is_a(\"IfcPropertySet\") and property_set.Name == \"Pset_StairCommon\":\n",
    "                    if hasattr(property_set, \"HasProperties\"):\n",
    "                        for property in property_set.HasProperties:\n",
    "                            if property.is_a(\"IfcPropertySingleValue\"):\n",
    "                                if property.Name == \"RiserHeight\":\n",
    "                                    riserheight = round(property.NominalValue.wrappedValue)\n",
    "                                if property.Name == \"TreadLength\":\n",
    "                                    threadlength = round(property.NominalValue.wrappedValue)\n",
    "    numberofrailings=0\n",
    "    for rel in relations:\n",
    "        for related_element in rel.RelatedObjects:\n",
    "            if related_element.is_a(\"IfcRailing\"):\n",
    "                if rel.RelatingObject.GlobalId == ifcstair.GlobalId:\n",
    "                    numberofrailings +=1\n",
    "    \n",
    "    new_stair = Stair(ifcstair.Name, riserheight, threadlength, numberofrailings)\n",
    "    stair_list.append(new_stair)\n",
    "    \n",
    "print(len(stair_list), \"stairs created.\")"
   ]
  },
  {
   "cell_type": "code",
   "execution_count": 116,
   "metadata": {},
   "outputs": [
    {
     "name": "stdout",
     "output_type": "stream",
     "text": [
      "18 doors created.\n"
     ]
    }
   ],
   "source": [
    "door_list = []\n",
    "\n",
    "for ifcdoor in ifcdoors:\n",
    "    # name = \"\"\n",
    "    # width = 0.0\n",
    "    if hasattr(ifcdoor, \"Name\"):\n",
    "        name = ifcdoor.Name\n",
    "    if hasattr(ifcdoor, \"OverallWidth\"):\n",
    "        width = ifcdoor.OverallWidth\n",
    "    \n",
    "    new_door = Door(name=name, width=width)\n",
    "    door_list.append(new_door)\n",
    "\n",
    "print(len(door_list), \"doors created.\")"
   ]
  },
  {
   "cell_type": "markdown",
   "metadata": {},
   "source": [
    "### Dumping the stair & door data\n",
    "Finally, we write the list of stair & door objects to a json file. In an intermediate step, we transform the list into a dictionary. Note that the json module has to be imported first. "
   ]
  },
  {
   "cell_type": "code",
   "execution_count": 117,
   "metadata": {},
   "outputs": [],
   "source": [
    "import json\n",
    "\n",
    "stairs_dict = [stair.__dict__ for stair in stair_list]\n",
    "with open(\"stairs.json\", \"w\") as json_file:\n",
    "    json.dump(stairs_dict, json_file, indent=4)\n",
    "\n",
    "doors_dict = [door.__dict__ for door in door_list]\n",
    "with open(\"doors.json\", \"w\") as json_file:\n",
    "    json.dump(doors_dict, json_file, indent=4)"
   ]
  },
  {
   "cell_type": "markdown",
   "metadata": {},
   "source": [
    "## Convert our extracted data info an RDF graph"
   ]
  },
  {
   "cell_type": "code",
   "execution_count": 118,
   "metadata": {},
   "outputs": [
    {
     "name": "stdout",
     "output_type": "stream",
     "text": [
      "Created house.ttl in folder:\n",
      "/Users/stefan/Repositories/FireBIM/SSolDAC2024/What-the-check/IFC Conversion\n"
     ]
    }
   ],
   "source": [
    "# Import needed components from rdflib\n",
    "from rdflib import Graph, Literal, BNode, Namespace, RDF, RDFS, OWL, URIRef\n",
    "\n",
    "# initiate triple store, i.e. Graph()\n",
    "g = Graph()\n",
    "\n",
    "# Add namespaces and prefixes for ontologies\n",
    "BOT = Namespace(\"https://w3id.org/bot#\")\n",
    "g.bind(\"bot\", BOT)\n",
    "BEO = Namespace(\"https://w3id.org/beo#\")\n",
    "g.bind(\"beo\", BEO)\n",
    "# Add namespace and prefix for instance graph (ABox)\n",
    "INST = Namespace(\"https://example.org#\")\n",
    "g.bind(\"ex\", INST) # bind to default empty prefix\n",
    "\n",
    "# Our instances\n",
    "\n",
    "for stair in stair_list:\n",
    "    s = INST[str(stair.name).replace(\" \",\"\").replace(\":\",\"_\")]\n",
    "    g.add((s, RDF.type, BEO.Stair))\n",
    "    g.add((s, INST[\"RiserHeight\"], Literal(stair.RiserHeight)))\n",
    "    g.add((s, INST[\"ThreadLength\"], Literal(stair.ThreadLength)))\n",
    "    g.add((s, INST[\"NumberOfRailings\"], Literal(stair.NumberOfRailings)))\n",
    "    g.add((s, RDFS.label, Literal(stair.name)))\n",
    "\n",
    "for door in door_list:\n",
    "    s = INST[str(door.name).replace(\" \",\"\").replace(\":\",\"_\")]\n",
    "    g.add((s, RDF.type, BEO.Door))\n",
    "    g.add((s, INST[\"width\"], Literal(door.width)))\n",
    "    g.add((s, RDFS.label, Literal(door.name)))\n",
    "    \n",
    "\n",
    "# Store the TTL\n",
    "import os\n",
    "g.serialize(destination = \"house.ttl\", format = \"turtle\")\n",
    "print(\"Created house.ttl in folder:\")\n",
    "print(str(os.getcwd()))"
   ]
  },
  {
   "cell_type": "code",
   "execution_count": 119,
   "metadata": {},
   "outputs": [
    {
     "name": "stdout",
     "output_type": "stream",
     "text": [
      "--- printing raw triples ---\n",
      "(rdflib.term.URIRef('https://example.org#PrecastStair_Stair_397996'), rdflib.term.URIRef('http://www.w3.org/1999/02/22-rdf-syntax-ns#type'), rdflib.term.URIRef('https://w3id.org/beo#Stair'))\n",
      "(rdflib.term.URIRef('https://example.org#M_Single-Flush_0915x2032mm_399501'), rdflib.term.URIRef('https://example.org#width'), rdflib.term.Literal('914.9999999999999', datatype=rdflib.term.URIRef('http://www.w3.org/2001/XMLSchema#double')))\n",
      "(rdflib.term.URIRef('https://example.org#M_Single-Flush_0915x2134mm_377662'), rdflib.term.URIRef('http://www.w3.org/1999/02/22-rdf-syntax-ns#type'), rdflib.term.URIRef('https://w3id.org/beo#Door'))\n",
      "(rdflib.term.URIRef('https://example.org#M_Single-Flush_0915x2032mm_399643'), rdflib.term.URIRef('http://www.w3.org/1999/02/22-rdf-syntax-ns#type'), rdflib.term.URIRef('https://w3id.org/beo#Door'))\n",
      "(rdflib.term.URIRef('https://example.org#Door-Exterior-Double_Door-Exterior-Double_391745'), rdflib.term.URIRef('https://example.org#width'), rdflib.term.Literal('2301.5999999999985', datatype=rdflib.term.URIRef('http://www.w3.org/2001/XMLSchema#double')))\n",
      "(rdflib.term.URIRef('https://example.org#M_Single-Flush_0915x2032mm_399925'), rdflib.term.URIRef('http://www.w3.org/2000/01/rdf-schema#label'), rdflib.term.Literal('M_Single-Flush:0915 x 2032mm:399925'))\n",
      "(rdflib.term.URIRef('https://example.org#PrecastStair_Stair_381758'), rdflib.term.URIRef('https://example.org#ThreadLength'), rdflib.term.Literal('240', datatype=rdflib.term.URIRef('http://www.w3.org/2001/XMLSchema#integer')))\n",
      "(rdflib.term.URIRef('https://example.org#PrecastStair_Stair_383689'), rdflib.term.URIRef('http://www.w3.org/1999/02/22-rdf-syntax-ns#type'), rdflib.term.URIRef('https://w3id.org/beo#Stair'))\n",
      "(rdflib.term.URIRef('https://example.org#M_Single-Flush_0915x2134mm_358480'), rdflib.term.URIRef('http://www.w3.org/2000/01/rdf-schema#label'), rdflib.term.Literal('M_Single-Flush:0915 x 2134mm:358480'))\n",
      "(rdflib.term.URIRef('https://example.org#M_Single-Flush_0915x2032mm_399501'), rdflib.term.URIRef('http://www.w3.org/2000/01/rdf-schema#label'), rdflib.term.Literal('M_Single-Flush:0915 x 2032mm:399501'))\n",
      "(rdflib.term.URIRef('https://example.org#M_Single-Flush_0915x2134mm_378185'), rdflib.term.URIRef('http://www.w3.org/2000/01/rdf-schema#label'), rdflib.term.Literal('M_Single-Flush:0915 x 2134mm:378185'))\n",
      "(rdflib.term.URIRef('https://example.org#M_Single-Flush_0915x2134mm_378401'), rdflib.term.URIRef('http://www.w3.org/1999/02/22-rdf-syntax-ns#type'), rdflib.term.URIRef('https://w3id.org/beo#Door'))\n",
      "(rdflib.term.URIRef('https://example.org#M_Single-Flush_0915x2134mm_358185'), rdflib.term.URIRef('http://www.w3.org/1999/02/22-rdf-syntax-ns#type'), rdflib.term.URIRef('https://w3id.org/beo#Door'))\n",
      "(rdflib.term.URIRef('https://example.org#M_Single-Flush_0915x2032mm_399643'), rdflib.term.URIRef('http://www.w3.org/2000/01/rdf-schema#label'), rdflib.term.Literal('M_Single-Flush:0915 x 2032mm:399643'))\n",
      "(rdflib.term.URIRef('https://example.org#M_Single-Flush_0915x2032mm_400081'), rdflib.term.URIRef('http://www.w3.org/2000/01/rdf-schema#label'), rdflib.term.Literal('M_Single-Flush:0915 x 2032mm:400081'))\n",
      "(rdflib.term.URIRef('https://example.org#M_Single-Flush_0915x2032mm_400081'), rdflib.term.URIRef('http://www.w3.org/1999/02/22-rdf-syntax-ns#type'), rdflib.term.URIRef('https://w3id.org/beo#Door'))\n",
      "(rdflib.term.URIRef('https://example.org#M_Single-Flush_0915x2134mm_378401'), rdflib.term.URIRef('https://example.org#width'), rdflib.term.Literal('915.0000000000001', datatype=rdflib.term.URIRef('http://www.w3.org/2001/XMLSchema#double')))\n",
      "(rdflib.term.URIRef('https://example.org#M_Single-Flush_0915x2134mm_401572'), rdflib.term.URIRef('http://www.w3.org/1999/02/22-rdf-syntax-ns#type'), rdflib.term.URIRef('https://w3id.org/beo#Door'))\n",
      "(rdflib.term.URIRef('https://example.org#PrecastStair_Stair_381758'), rdflib.term.URIRef('http://www.w3.org/1999/02/22-rdf-syntax-ns#type'), rdflib.term.URIRef('https://w3id.org/beo#Stair'))\n",
      "(rdflib.term.URIRef('https://example.org#PrecastStair_Stair_397996'), rdflib.term.URIRef('https://example.org#RiserHeight'), rdflib.term.Literal('107', datatype=rdflib.term.URIRef('http://www.w3.org/2001/XMLSchema#integer')))\n",
      "(rdflib.term.URIRef('https://example.org#M_Single-Flush_0915x2134mm_401415'), rdflib.term.URIRef('https://example.org#width'), rdflib.term.Literal('915.0000000000001', datatype=rdflib.term.URIRef('http://www.w3.org/2001/XMLSchema#double')))\n",
      "(rdflib.term.URIRef('https://example.org#M_Single-Flush_0915x2134mm_359949'), rdflib.term.URIRef('http://www.w3.org/1999/02/22-rdf-syntax-ns#type'), rdflib.term.URIRef('https://w3id.org/beo#Door'))\n",
      "(rdflib.term.URIRef('https://example.org#M_Single-Flush_0915x2032mm_399925'), rdflib.term.URIRef('http://www.w3.org/1999/02/22-rdf-syntax-ns#type'), rdflib.term.URIRef('https://w3id.org/beo#Door'))\n",
      "(rdflib.term.URIRef('https://example.org#M_Single-Flush_0915x2134mm_378243'), rdflib.term.URIRef('http://www.w3.org/1999/02/22-rdf-syntax-ns#type'), rdflib.term.URIRef('https://w3id.org/beo#Door'))\n",
      "(rdflib.term.URIRef('https://example.org#M_Single-Flush_0915x2134mm_359949'), rdflib.term.URIRef('https://example.org#width'), rdflib.term.Literal('915.0000000000003', datatype=rdflib.term.URIRef('http://www.w3.org/2001/XMLSchema#double')))\n",
      "(rdflib.term.URIRef('https://example.org#M_Single-Flush_0915x2134mm_378243'), rdflib.term.URIRef('http://www.w3.org/2000/01/rdf-schema#label'), rdflib.term.Literal('M_Single-Flush:0915 x 2134mm:378243'))\n",
      "(rdflib.term.URIRef('https://example.org#PrecastStair_Stair_381758'), rdflib.term.URIRef('https://example.org#NumberOfRailings'), rdflib.term.Literal('2', datatype=rdflib.term.URIRef('http://www.w3.org/2001/XMLSchema#integer')))\n",
      "(rdflib.term.URIRef('https://example.org#M_Single-Flush_0915x2032mm_398822'), rdflib.term.URIRef('http://www.w3.org/2000/01/rdf-schema#label'), rdflib.term.Literal('M_Single-Flush:0915 x 2032mm:398822'))\n",
      "(rdflib.term.URIRef('https://example.org#M_Single-Flush_0915x2134mm_401572'), rdflib.term.URIRef('http://www.w3.org/2000/01/rdf-schema#label'), rdflib.term.Literal('M_Single-Flush:0915 x 2134mm:401572'))\n",
      "(rdflib.term.URIRef('https://example.org#M_Single-Flush_0915x2134mm_358480'), rdflib.term.URIRef('https://example.org#width'), rdflib.term.Literal('914.9999999999999', datatype=rdflib.term.URIRef('http://www.w3.org/2001/XMLSchema#double')))\n",
      "(rdflib.term.URIRef('https://example.org#Door-Exterior-Double_Door-Exterior-Double_391745'), rdflib.term.URIRef('http://www.w3.org/1999/02/22-rdf-syntax-ns#type'), rdflib.term.URIRef('https://w3id.org/beo#Door'))\n",
      "(rdflib.term.URIRef('https://example.org#M_Single-Flush_0915x2032mm_399431'), rdflib.term.URIRef('http://www.w3.org/1999/02/22-rdf-syntax-ns#type'), rdflib.term.URIRef('https://w3id.org/beo#Door'))\n",
      "(rdflib.term.URIRef('https://example.org#M_Single-Flush_0915x2032mm_398909'), rdflib.term.URIRef('http://www.w3.org/2000/01/rdf-schema#label'), rdflib.term.Literal('M_Single-Flush:0915 x 2032mm:398909'))\n",
      "(rdflib.term.URIRef('https://example.org#PrecastStair_Stair_397996'), rdflib.term.URIRef('https://example.org#NumberOfRailings'), rdflib.term.Literal('2', datatype=rdflib.term.URIRef('http://www.w3.org/2001/XMLSchema#integer')))\n",
      "(rdflib.term.URIRef('https://example.org#M_Single-Flush_0915x2134mm_378243'), rdflib.term.URIRef('https://example.org#width'), rdflib.term.Literal('914.9999999999999', datatype=rdflib.term.URIRef('http://www.w3.org/2001/XMLSchema#double')))\n",
      "(rdflib.term.URIRef('https://example.org#PrecastStair_Stair_383689'), rdflib.term.URIRef('https://example.org#RiserHeight'), rdflib.term.Literal('178', datatype=rdflib.term.URIRef('http://www.w3.org/2001/XMLSchema#integer')))\n",
      "(rdflib.term.URIRef('https://example.org#M_Single-Flush_0915x2032mm_399431'), rdflib.term.URIRef('http://www.w3.org/2000/01/rdf-schema#label'), rdflib.term.Literal('M_Single-Flush:0915 x 2032mm:399431'))\n",
      "(rdflib.term.URIRef('https://example.org#M_Single-Flush_0915x2134mm_358185'), rdflib.term.URIRef('http://www.w3.org/2000/01/rdf-schema#label'), rdflib.term.Literal('M_Single-Flush:0915 x 2134mm:358185'))\n",
      "(rdflib.term.URIRef('https://example.org#PrecastStair_Stair_383689'), rdflib.term.URIRef('http://www.w3.org/2000/01/rdf-schema#label'), rdflib.term.Literal('Precast Stair:Stair:383689'))\n",
      "(rdflib.term.URIRef('https://example.org#PrecastStair_Stair_397996'), rdflib.term.URIRef('http://www.w3.org/2000/01/rdf-schema#label'), rdflib.term.Literal('Precast Stair:Stair:397996'))\n",
      "(rdflib.term.URIRef('https://example.org#M_Single-Flush_0915x2032mm_398909'), rdflib.term.URIRef('http://www.w3.org/1999/02/22-rdf-syntax-ns#type'), rdflib.term.URIRef('https://w3id.org/beo#Door'))\n",
      "(rdflib.term.URIRef('https://example.org#M_Single-Flush_0915x2134mm_358185'), rdflib.term.URIRef('https://example.org#width'), rdflib.term.Literal('914.9999999999999', datatype=rdflib.term.URIRef('http://www.w3.org/2001/XMLSchema#double')))\n",
      "(rdflib.term.URIRef('https://example.org#M_Single-Flush_0915x2134mm_377662'), rdflib.term.URIRef('https://example.org#width'), rdflib.term.Literal('915.0000000000001', datatype=rdflib.term.URIRef('http://www.w3.org/2001/XMLSchema#double')))\n",
      "(rdflib.term.URIRef('https://example.org#PrecastStair_Stair_381758'), rdflib.term.URIRef('https://example.org#RiserHeight'), rdflib.term.Literal('175', datatype=rdflib.term.URIRef('http://www.w3.org/2001/XMLSchema#integer')))\n",
      "(rdflib.term.URIRef('https://example.org#M_Single-Flush_0915x2134mm_401415'), rdflib.term.URIRef('http://www.w3.org/1999/02/22-rdf-syntax-ns#type'), rdflib.term.URIRef('https://w3id.org/beo#Door'))\n",
      "(rdflib.term.URIRef('https://example.org#M_Single-Flush_0915x2134mm_378401'), rdflib.term.URIRef('http://www.w3.org/2000/01/rdf-schema#label'), rdflib.term.Literal('M_Single-Flush:0915 x 2134mm:378401'))\n",
      "(rdflib.term.URIRef('https://example.org#PrecastStair_Stair_383689'), rdflib.term.URIRef('https://example.org#NumberOfRailings'), rdflib.term.Literal('2', datatype=rdflib.term.URIRef('http://www.w3.org/2001/XMLSchema#integer')))\n",
      "(rdflib.term.URIRef('https://example.org#M_Single-Flush_0915x2134mm_378321'), rdflib.term.URIRef('http://www.w3.org/2000/01/rdf-schema#label'), rdflib.term.Literal('M_Single-Flush:0915 x 2134mm:378321'))\n",
      "(rdflib.term.URIRef('https://example.org#M_Single-Flush_0915x2032mm_399431'), rdflib.term.URIRef('https://example.org#width'), rdflib.term.Literal('914.9999999999999', datatype=rdflib.term.URIRef('http://www.w3.org/2001/XMLSchema#double')))\n",
      "(rdflib.term.URIRef('https://example.org#M_Single-Flush_0915x2032mm_399501'), rdflib.term.URIRef('http://www.w3.org/1999/02/22-rdf-syntax-ns#type'), rdflib.term.URIRef('https://w3id.org/beo#Door'))\n",
      "(rdflib.term.URIRef('https://example.org#PrecastStair_Stair_397996'), rdflib.term.URIRef('https://example.org#ThreadLength'), rdflib.term.Literal('240', datatype=rdflib.term.URIRef('http://www.w3.org/2001/XMLSchema#integer')))\n",
      "(rdflib.term.URIRef('https://example.org#M_Single-Flush_0915x2032mm_398822'), rdflib.term.URIRef('http://www.w3.org/1999/02/22-rdf-syntax-ns#type'), rdflib.term.URIRef('https://w3id.org/beo#Door'))\n",
      "(rdflib.term.URIRef('https://example.org#M_Single-Flush_0915x2134mm_377662'), rdflib.term.URIRef('http://www.w3.org/2000/01/rdf-schema#label'), rdflib.term.Literal('M_Single-Flush:0915 x 2134mm:377662'))\n",
      "(rdflib.term.URIRef('https://example.org#M_Single-Flush_0915x2134mm_378185'), rdflib.term.URIRef('http://www.w3.org/1999/02/22-rdf-syntax-ns#type'), rdflib.term.URIRef('https://w3id.org/beo#Door'))\n",
      "(rdflib.term.URIRef('https://example.org#M_Single-Flush_0915x2134mm_401415'), rdflib.term.URIRef('http://www.w3.org/2000/01/rdf-schema#label'), rdflib.term.Literal('M_Single-Flush:0915 x 2134mm:401415'))\n",
      "(rdflib.term.URIRef('https://example.org#M_Single-Flush_0915x2032mm_399643'), rdflib.term.URIRef('https://example.org#width'), rdflib.term.Literal('914.9999999999999', datatype=rdflib.term.URIRef('http://www.w3.org/2001/XMLSchema#double')))\n",
      "(rdflib.term.URIRef('https://example.org#PrecastStair_Stair_381758'), rdflib.term.URIRef('http://www.w3.org/2000/01/rdf-schema#label'), rdflib.term.Literal('Precast Stair:Stair:381758'))\n",
      "(rdflib.term.URIRef('https://example.org#Door-Exterior-Double_Door-Exterior-Double_391745'), rdflib.term.URIRef('http://www.w3.org/2000/01/rdf-schema#label'), rdflib.term.Literal('Door-Exterior-Double:Door-Exterior-Double:391745'))\n",
      "(rdflib.term.URIRef('https://example.org#M_Single-Flush_0915x2134mm_359949'), rdflib.term.URIRef('http://www.w3.org/2000/01/rdf-schema#label'), rdflib.term.Literal('M_Single-Flush:0915 x 2134mm:359949'))\n",
      "(rdflib.term.URIRef('https://example.org#M_Single-Flush_0915x2032mm_398909'), rdflib.term.URIRef('https://example.org#width'), rdflib.term.Literal('914.9999999999999', datatype=rdflib.term.URIRef('http://www.w3.org/2001/XMLSchema#double')))\n",
      "(rdflib.term.URIRef('https://example.org#M_Single-Flush_0915x2032mm_399925'), rdflib.term.URIRef('https://example.org#width'), rdflib.term.Literal('914.9999999999997', datatype=rdflib.term.URIRef('http://www.w3.org/2001/XMLSchema#double')))\n",
      "(rdflib.term.URIRef('https://example.org#M_Single-Flush_0915x2134mm_358480'), rdflib.term.URIRef('http://www.w3.org/1999/02/22-rdf-syntax-ns#type'), rdflib.term.URIRef('https://w3id.org/beo#Door'))\n",
      "(rdflib.term.URIRef('https://example.org#M_Single-Flush_0915x2032mm_398822'), rdflib.term.URIRef('https://example.org#width'), rdflib.term.Literal('914.9999999999999', datatype=rdflib.term.URIRef('http://www.w3.org/2001/XMLSchema#double')))\n",
      "(rdflib.term.URIRef('https://example.org#PrecastStair_Stair_383689'), rdflib.term.URIRef('https://example.org#ThreadLength'), rdflib.term.Literal('240', datatype=rdflib.term.URIRef('http://www.w3.org/2001/XMLSchema#integer')))\n",
      "(rdflib.term.URIRef('https://example.org#M_Single-Flush_0915x2134mm_378321'), rdflib.term.URIRef('http://www.w3.org/1999/02/22-rdf-syntax-ns#type'), rdflib.term.URIRef('https://w3id.org/beo#Door'))\n",
      "(rdflib.term.URIRef('https://example.org#M_Single-Flush_0915x2032mm_400081'), rdflib.term.URIRef('https://example.org#width'), rdflib.term.Literal('914.9999999999999', datatype=rdflib.term.URIRef('http://www.w3.org/2001/XMLSchema#double')))\n",
      "(rdflib.term.URIRef('https://example.org#M_Single-Flush_0915x2134mm_401572'), rdflib.term.URIRef('https://example.org#width'), rdflib.term.Literal('915.0', datatype=rdflib.term.URIRef('http://www.w3.org/2001/XMLSchema#double')))\n",
      "(rdflib.term.URIRef('https://example.org#M_Single-Flush_0915x2134mm_378321'), rdflib.term.URIRef('https://example.org#width'), rdflib.term.Literal('915.0000000000003', datatype=rdflib.term.URIRef('http://www.w3.org/2001/XMLSchema#double')))\n",
      "(rdflib.term.URIRef('https://example.org#M_Single-Flush_0915x2134mm_378185'), rdflib.term.URIRef('https://example.org#width'), rdflib.term.Literal('914.9999999999999', datatype=rdflib.term.URIRef('http://www.w3.org/2001/XMLSchema#double')))\n"
     ]
    }
   ],
   "source": [
    "# Iterate over triples in store and print them out.\n",
    "print(\"--- printing raw triples ---\")\n",
    "for s, p, o in g:\n",
    "    print((s, p, o))"
   ]
  },
  {
   "cell_type": "markdown",
   "metadata": {},
   "source": [
    "### Perform some queries"
   ]
  },
  {
   "cell_type": "markdown",
   "metadata": {},
   "source": [
    "The doors with width below 1050mm"
   ]
  },
  {
   "cell_type": "code",
   "execution_count": 120,
   "metadata": {},
   "outputs": [
    {
     "name": "stdout",
     "output_type": "stream",
     "text": [
      "Found these Doors with Width below 1050 mm: \n",
      "https://example.org#M_Single-Flush_0915x2134mm_358185 - door width = 914.9999999999999\n",
      "https://example.org#M_Single-Flush_0915x2134mm_358480 - door width = 914.9999999999999\n",
      "https://example.org#M_Single-Flush_0915x2134mm_359949 - door width = 915.0000000000003\n",
      "https://example.org#M_Single-Flush_0915x2134mm_377662 - door width = 915.0000000000001\n",
      "https://example.org#M_Single-Flush_0915x2134mm_378185 - door width = 914.9999999999999\n",
      "https://example.org#M_Single-Flush_0915x2134mm_378243 - door width = 914.9999999999999\n",
      "https://example.org#M_Single-Flush_0915x2134mm_378321 - door width = 915.0000000000003\n",
      "https://example.org#M_Single-Flush_0915x2134mm_378401 - door width = 915.0000000000001\n",
      "https://example.org#M_Single-Flush_0915x2032mm_398822 - door width = 914.9999999999999\n",
      "https://example.org#M_Single-Flush_0915x2032mm_398909 - door width = 914.9999999999999\n",
      "https://example.org#M_Single-Flush_0915x2032mm_399431 - door width = 914.9999999999999\n",
      "https://example.org#M_Single-Flush_0915x2032mm_399501 - door width = 914.9999999999999\n",
      "https://example.org#M_Single-Flush_0915x2032mm_399643 - door width = 914.9999999999999\n",
      "https://example.org#M_Single-Flush_0915x2032mm_399925 - door width = 914.9999999999997\n",
      "https://example.org#M_Single-Flush_0915x2032mm_400081 - door width = 914.9999999999999\n",
      "https://example.org#M_Single-Flush_0915x2134mm_401415 - door width = 915.0000000000001\n",
      "https://example.org#M_Single-Flush_0915x2134mm_401572 - door width = 915.0\n"
     ]
    }
   ],
   "source": [
    "ourQuery = \"\"\"\n",
    "PREFIX bot: <https://w3id.org/bot#>\n",
    "PREFIX beo: <https://w3id.org/beo#>\n",
    "PREFIX rdf: <http://www.w3.org/1999/02/22-rdf-syntax-ns#>\n",
    "\n",
    "SELECT ?s ?w\n",
    "WHERE{ ?s rdf:type beo:Door .\n",
    "    ?s ex:width ?w .\n",
    "    FILTER (?w < 1050)\n",
    "}\n",
    "\"\"\"\n",
    "\n",
    "qres = g.query(ourQuery)\n",
    "\n",
    "print( \"Found these Doors with Width below 1050 mm: \" )\n",
    "for row in qres:\n",
    "    print(f\"{row.s} - door width = {row.w}\")"
   ]
  },
  {
   "cell_type": "markdown",
   "metadata": {},
   "source": [
    "The stairs and the calculated stair formula"
   ]
  },
  {
   "cell_type": "code",
   "execution_count": 121,
   "metadata": {},
   "outputs": [
    {
     "name": "stdout",
     "output_type": "stream",
     "text": [
      "Found these Stairs with non-compliant Stair Formula: \n",
      "https://example.org#PrecastStair_Stair_397996 : 2xRH+TL = 454\n"
     ]
    }
   ],
   "source": [
    "ourQuery = \"\"\"\n",
    "# Check Stair formula\n",
    "PREFIX ex: <https://example.org#>\n",
    "PREFIX beo: <https://w3id.org/beo#>\n",
    "select * where {\n",
    "    ?s ?p beo:Stair .\n",
    "    ?s ex:NumberOfRailings ?r .\n",
    "    ?s ex:RiserHeight ?rh .\n",
    "    ?s ex:ThreadLength ?tl\n",
    "    BIND( (2 * ?rh + ?tl) AS ?StairFormula )\n",
    "    FILTER((?StairFormula < 590) || (?StairFormula > 630))\n",
    "} limit 100\n",
    "\"\"\"\n",
    "\n",
    "qres = g.query(ourQuery)\n",
    "\n",
    "print( \"Found these Stairs with non-compliant Stair Formula: \" )\n",
    "for row in qres:\n",
    "    print(f\"{row.s} : 2xRH+TL = {row.StairFormula}\")"
   ]
  }
 ],
 "metadata": {
  "kernelspec": {
   "display_name": "Python 3",
   "language": "python",
   "name": "python3"
  },
  "language_info": {
   "codemirror_mode": {
    "name": "ipython",
    "version": 3
   },
   "file_extension": ".py",
   "mimetype": "text/x-python",
   "name": "python",
   "nbconvert_exporter": "python",
   "pygments_lexer": "ipython3",
   "version": "3.12.2"
  }
 },
 "nbformat": 4,
 "nbformat_minor": 2
}
