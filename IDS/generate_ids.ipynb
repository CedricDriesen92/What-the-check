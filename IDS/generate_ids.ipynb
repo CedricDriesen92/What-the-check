{
 "cells": [
  {
   "cell_type": "markdown",
   "metadata": {},
   "source": [
    "# Generate IDS for rule checking"
   ]
  },
  {
   "cell_type": "markdown",
   "metadata": {},
   "source": [
    "## Prerequisites"
   ]
  },
  {
   "cell_type": "code",
   "execution_count": 30,
   "metadata": {},
   "outputs": [
    {
     "name": "stdout",
     "output_type": "stream",
     "text": [
      "Requirement already satisfied: ifcopenshell in /Users/stefan/Repositories/FireBIM/SSolDAC2024/venv/lib/python3.12/site-packages (0.7.0.240521)\n",
      "Requirement already satisfied: ifctester in /Users/stefan/Repositories/FireBIM/SSolDAC2024/venv/lib/python3.12/site-packages (0.0.240518)\n",
      "Requirement already satisfied: mathutils in /Users/stefan/Repositories/FireBIM/SSolDAC2024/venv/lib/python3.12/site-packages (from ifcopenshell) (3.3.0)\n",
      "Requirement already satisfied: shapely in /Users/stefan/Repositories/FireBIM/SSolDAC2024/venv/lib/python3.12/site-packages (from ifcopenshell) (2.0.4)\n",
      "Requirement already satisfied: numpy in /Users/stefan/Repositories/FireBIM/SSolDAC2024/venv/lib/python3.12/site-packages (from ifcopenshell) (1.26.4)\n",
      "Requirement already satisfied: isodate in /Users/stefan/Repositories/FireBIM/SSolDAC2024/venv/lib/python3.12/site-packages (from ifcopenshell) (0.6.1)\n",
      "Requirement already satisfied: python-dateutil in /Users/stefan/Repositories/FireBIM/SSolDAC2024/venv/lib/python3.12/site-packages (from ifcopenshell) (2.9.0.post0)\n",
      "Requirement already satisfied: lark in /Users/stefan/Repositories/FireBIM/SSolDAC2024/venv/lib/python3.12/site-packages (from ifcopenshell) (1.1.9)\n",
      "Requirement already satisfied: xmlschema in /Users/stefan/Repositories/FireBIM/SSolDAC2024/venv/lib/python3.12/site-packages (from ifctester) (3.3.1)\n",
      "Requirement already satisfied: six in /Users/stefan/Repositories/FireBIM/SSolDAC2024/venv/lib/python3.12/site-packages (from isodate->ifcopenshell) (1.16.0)\n",
      "Requirement already satisfied: elementpath<5.0.0,>=4.4.0 in /Users/stefan/Repositories/FireBIM/SSolDAC2024/venv/lib/python3.12/site-packages (from xmlschema->ifctester) (4.4.0)\n"
     ]
    }
   ],
   "source": [
    "!pip install ifcopenshell ifctester"
   ]
  },
  {
   "cell_type": "markdown",
   "metadata": {},
   "source": [
    "## Create IDS file using the python tools from ifcopenshell"
   ]
  },
  {
   "cell_type": "code",
   "execution_count": 31,
   "metadata": {},
   "outputs": [],
   "source": [
    "import ifcopenshell\n",
    "from ifctester import ids, reporter\n",
    "\n",
    "#--------------------------------------------------\n",
    "# create an IDS (0.9.7) or (1.0?)\n",
    "#--------------------------------------------------\n",
    "my_ids = ids.Ids(title=\"Accessibility Data verification\",\n",
    "                 purpose=\"Checking the Flemish accessibility regulation\")\n",
    "\n",
    "# ----------------------------------------\n",
    "# Add a specification to it\n",
    "my_spec = ids.Specification(\n",
    "    name=\"Each door should have a width of at least 1.05m.\",\n",
    "    identifier=\"VTV Art.22 §2\",\n",
    "    ifcVersion=\"IFC2X3\")\n",
    "my_spec.applicability.append(ids.Entity(name=\"IFCDOOR\"))\n",
    "# All doors have this attribute, but it shouldn't be empty\n",
    "restriction = ids.Restriction(\n",
    "    options={\"minInclusive\": 1050}, # 1050 mm\n",
    "    base=\"length\")\n",
    "attribute = ids.Attribute(\n",
    "    name=\"OverallWidth\",\n",
    "    cardinality=\"required\",\n",
    "    value=restriction\n",
    ")\n",
    "my_spec.requirements.append(attribute)\n",
    "my_ids.specifications.append(my_spec)\n",
    "\n",
    "# ----------------------------------------\n",
    "# # Add a specification to it\n",
    "# my_spec = ids.Specification(\n",
    "#     name=\"A railing must be provided on both sides of the staircase.\",\n",
    "#     identifier=\"VTV Art.20 §4\",\n",
    "#     ifcVersion=\"IFC2X3\")\n",
    "# my_spec.applicability.append(ids.Entity(name=\"IFCSTAIR\"))\n",
    "# # All doors have this attribute, but it shouldn't be empty\n",
    "# restriction = ids.Restriction(\n",
    "#     options={\"minInclusive\": 1050}, # 1050 mm\n",
    "#     base=\"length\")\n",
    "# attribute = ids.Attribute(\n",
    "#     name=\"OverallWidth\",\n",
    "#     cardinality=\"required\",\n",
    "#     value=restriction\n",
    "# )\n",
    "# my_spec.requirements.append(attribute)\n",
    "# my_ids.specifications.append(my_spec)\n",
    "\n",
    "\n",
    "# ----------------------------------------\n",
    "# # Add a specification to it\n",
    "# my_spec = ids.Specification(\n",
    "#     name=\"Stairflights may have at most 17 risers\",\n",
    "#     identifier=\"VTV Art.20 §4\",\n",
    "#     ifcVersion=\"IFC2X3\")\n",
    "# my_spec.applicability.append(ids.Entity(name=\"IFCSTAIR\"))\n",
    "# # All doors have this attribute, but it shouldn't be empty\n",
    "# restriction = ids.Restriction(\n",
    "#     options={\"minInclusive\": 1050}, # 1050 mm\n",
    "#     base=\"length\")\n",
    "# attribute = ids.Attribute(\n",
    "#     name=\"OverallWidth\",\n",
    "#     cardinality=\"required\",\n",
    "#     value=restriction\n",
    "# )\n",
    "# my_spec.requirements.append(attribute)\n",
    "# my_ids.specifications.append(my_spec)\n",
    "\n",
    "# save to file\n",
    "result = my_ids.to_xml(\"VTV_accessibility.ids\")"
   ]
  },
  {
   "cell_type": "markdown",
   "metadata": {},
   "source": [
    "## Test the IFC file"
   ]
  },
  {
   "cell_type": "code",
   "execution_count": 34,
   "metadata": {},
   "outputs": [
    {
     "name": "stdout",
     "output_type": "stream",
     "text": [
      "\u001b[;1m\u001b[1;34mAccessibility Data verification\n",
      "\u001b[;1m\u001b[1;31m[FAIL] \u001b[;1m(1/18) *Doors need width of at least 1.05m\n",
      "\u001b[1;36m    Applies to:\n",
      "\u001b[0;0m        All IFCDOOR data\n",
      "\u001b[1;36m    Requirements:\n",
      "\u001b[0;0m\u001b[0;0m\u001b[1;31m        The OverallWidth shall be {'minInclusive': '1050'}\n",
      "\u001b[0;0m            \u001b[0;0mThe attribute value \u001b[0;95m914.9999999999999\u001b[0;0m does not match the requirement\u001b[0;90m - #5334=IfcDoor('2RvDSwe691wAJhcTMot35k',#18,'M_Single-Flush:0915 x 2134mm:358185',$,'M_Single-Flush:0915 x 2134mm',#23910,#5330,'358185',2134.,914.99999999999989)\n",
      "\u001b[0;0m            \u001b[0;0mThe attribute value \u001b[0;95m914.9999999999999\u001b[0;0m does not match the requirement\u001b[0;90m - #5457=IfcDoor('2RvDSwe691wAJhcTMot3uN',#18,'M_Single-Flush:0915 x 2134mm:358480',$,'M_Single-Flush:0915 x 2134mm',#23870,#5453,'358480',2134.,914.99999999999989)\n",
      "\u001b[0;0m            \u001b[0;0mThe attribute value \u001b[0;95m915.0000000000003\u001b[0;0m does not match the requirement\u001b[0;90m - #5590=IfcDoor('2KmF_$QvDCf9UqoOSc8rqL',#18,'M_Single-Flush:0915 x 2134mm:359949',$,'M_Single-Flush:0915 x 2134mm',#23830,#5586,'359949',2134.,915.00000000000034)\n",
      "\u001b[0;0m            \u001b[0;0mThe attribute value \u001b[0;95m915.0000000000001\u001b[0;0m does not match the requirement\u001b[0;90m - #7400=IfcDoor('2T1wqivHnBkwBL1I2GMTkx',#18,'M_Single-Flush:0915 x 2134mm:377662',$,'M_Single-Flush:0915 x 2134mm',#23890,#7396,'377662',2134.,915.00000000000011)\n",
      "\u001b[0;0m            \u001b[0;0mThe attribute value \u001b[0;95m914.9999999999999\u001b[0;0m does not match the requirement\u001b[0;90m - #7484=IfcDoor('0unmp_RnH2xRyaySWnFp7b',#18,'M_Single-Flush:0915 x 2134mm:378185',$,'M_Single-Flush:0915 x 2134mm',#23770,#7480,'378185',2134.,914.99999999999989)\n",
      "\u001b[0;0m            \u001b[0;0mThe attribute value \u001b[0;95m914.9999999999999\u001b[0;0m does not match the requirement\u001b[0;90m - #7512=IfcDoor('0unmp_RnH2xRyaySWnFp4l',#18,'M_Single-Flush:0915 x 2134mm:378243',$,'M_Single-Flush:0915 x 2134mm',#23790,#7508,'378243',2134.,914.99999999999989)\n",
      "\u001b[0;0m            \u001b[0;0mThe attribute value \u001b[0;95m915.0000000000003\u001b[0;0m does not match the requirement\u001b[0;90m - #7540=IfcDoor('0unmp_RnH2xRyaySWnFp5z',#18,'M_Single-Flush:0915 x 2134mm:378321',$,'M_Single-Flush:0915 x 2134mm',#23730,#7536,'378321',2134.,915.00000000000034)\n",
      "\u001b[0;0m            \u001b[0;0mThe attribute value \u001b[0;95m915.0000000000001\u001b[0;0m does not match the requirement\u001b[0;90m - #7568=IfcDoor('0unmp_RnH2xRyaySWnFpAD',#18,'M_Single-Flush:0915 x 2134mm:378401',$,'M_Single-Flush:0915 x 2134mm',#23810,#7564,'378401',2134.,915.00000000000011)\n",
      "\u001b[0;0m            \u001b[0;0mThe attribute value \u001b[0;95m914.9999999999999\u001b[0;0m does not match the requirement\u001b[0;90m - #13313=IfcDoor('2wcvH1AOD8fgqG2PBvpM7U',#18,'M_Single-Flush:0915 x 2032mm:398822',$,'M_Single-Flush:0915 x 2032mm',#24416,#13309,'398822',2031.9999999999993,914.99999999999989)\n",
      "\u001b[0;0m            \u001b[0;0mThe attribute value \u001b[0;95m914.9999999999999\u001b[0;0m does not match the requirement\u001b[0;90m - #13367=IfcDoor('2wcvH1AOD8fgqG2PBvpM85',#18,'M_Single-Flush:0915 x 2032mm:398909',$,'M_Single-Flush:0915 x 2032mm',#24436,#13363,'398909',2031.9999999999993,914.99999999999989)\n",
      "\u001b[0;0m            ... 17 in total ...\n",
      "\u001b[0;0m\u001b[;1m\u001b[1;31m[FAIL] \u001b[;1m(6/8) Stairs need two railings\n",
      "\u001b[1;36m    Applies to:\n",
      "\u001b[0;0m        All IFCRAILING data\n",
      "\u001b[1;36m    Requirements:\n",
      "\u001b[0;0m\u001b[0;0m\u001b[1;31m        An element must have an IFCRELAGGREGATES relationship with an IFCSTAIR\n",
      "\u001b[0;0m            \u001b[0;0mThe entity has a relationship with incorrect entities: \u001b[0;95m['IfcRamp']\u001b[0;0m\u001b[0;90m - #21220=IfcRailing('0T5fsdDkz3aQngjLKmJAoi',#18,'Railing:1100mm:393772',$,'Railing:1100mm',#20976,#21219,'393772',.NOTDEFINED.)\n",
      "\u001b[0;0m            \u001b[0;0mThe entity has a relationship with incorrect entities: \u001b[0;95m['IfcRamp']\u001b[0;0m\u001b[0;90m - #21460=IfcRailing('0T5fsdDkz3aQngjLKmJAom',#18,'Railing:1100mm:393776',$,'Railing:1100mm',#21239,#21459,'393776',.NOTDEFINED.)\n",
      "\u001b[0;0m\u001b[0;0m\u001b[0;0m"
     ]
    }
   ],
   "source": [
    "# load IDS\n",
    "my_ids = ids.open(\"VTV_Accessibility_usbim.ids\")\n",
    "\n",
    "# open  IFC file\n",
    "my_ifc = ifcopenshell.open(\"../datasets/heartbreak_hotel.ifc\")\n",
    "\n",
    "# validate IFC model against IDS requirements:\n",
    "my_ids.validate(my_ifc)\n",
    "\n",
    "# show results:\n",
    "reporter.Console(my_ids).report()"
   ]
  }
 ],
 "metadata": {
  "kernelspec": {
   "display_name": "venv",
   "language": "python",
   "name": "python3"
  },
  "language_info": {
   "codemirror_mode": {
    "name": "ipython",
    "version": 3
   },
   "file_extension": ".py",
   "mimetype": "text/x-python",
   "name": "python",
   "nbconvert_exporter": "python",
   "pygments_lexer": "ipython3",
   "version": "3.12.3"
  }
 },
 "nbformat": 4,
 "nbformat_minor": 2
}
